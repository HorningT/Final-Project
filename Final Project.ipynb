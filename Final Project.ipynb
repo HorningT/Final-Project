{
 "cells": [
  {
   "cell_type": "markdown",
   "id": "e0863d9b",
   "metadata": {},
   "source": [
    "\n",
    "## Simulation of an Microresonator Optical Soliton (MOS)\n",
    "### Thomas Horning\n",
    "#### PHYS 5070, Spring 2021\n",
    "\n",
    "I will attempt to simulate the conditions needed to generate an optical soliton and Frequency Comb in a Whispering-Gallery Mode Microresonator. The governing equation for light passing through a nonlinear material is commonly simplified to the nonlinear Schordinger equation. However after applying the appropriate matching conditions for a cavity resonator, this is transformed into the Lugiato-Lefever Equation (LLE). The LLE amounts to a driven, damped, detuned nonlinear Schroedinger equation.\n",
    "\n",
    "**Goal:** Use NN PDE solutions package to solve the LLE equation for Optical Soliton Microsphere Resonators (OSMR) faster than standard solutions on the fastest langauge. Thereby showing that PDE approximations can be as fast as the fastest code.. I want to quatify the calculation time of both and compare to see if I met my goal.\n",
    "\n",
    "- Solve the LLE Equation using the given dispersion by the PyLLE Team using PyLLE\n",
    "- Use Package DeepXDE to solve the LLE Equations\n",
    "- Compare Results/ Explain differences\n",
    "- Compare to Analytical solution (Steady-State)\n",
    "- Reproduce the dispersion profiles to make sub-comb with  NN algorithm\n",
    " \n",
    "  - I will use the same dispersion given by them to train my NN to solve the LLE Equation. I will then generate a couple fake dispersion profiles and make sure they produce the same output. Finally I will time the system..\n",
    " \n",
    "The first paper referenced is the inspiration of this project\n",
    "\n",
    "I have referenced the following papers:\n",
    "\n",
    "1. Kovacs, A., “Conditional physics informed neural networks”, <i>arXiv e-prints</i>, 2021.\n",
    "2. Herr, T.; Brasch, V.; Jost, J.D.; Wang, C.Y.; Kondratiev, N.M.; Gorodetsky, M.L.; Kippenberg, T.J. (2014). \"Temporal solitons in optical microresonators\". Nature Photonics. 8 (2): 145–152. \n",
    "4. Moille G, Li Q, Lu X, Srinivasan K (2019) pyLLE: A Fast and User Friendly Lugiato-Lefever Equation Solver. J Res Natl Inst Stan 124:124012. https://doi.org/10.6028/jres.124.012\n",
    "5. A. Koryagin, R. Khudorozkov, S. Tsimfer, Pydens: A python framework for solving differential equations with\n",
    "neural networks, arXiv preprint arXiv:1909.11544 (2019)\n",
    "6. Lu L,Meng X,Mao Z, and Karniadakis G (2021) DeepXDE: A Deep Learning Library for Solving Differential Equations. SIAM Review 2021 63:1, 208-228"
   ]
  },
  {
   "attachments": {
    "image.png": {
     "image/png": "[encoded data removed]"
    }
   },
   "cell_type": "markdown",
   "id": "00863bc4",
   "metadata": {},
   "source": [
    "### The Lugiato-Lefever Equation (LLE)\n",
    "\n",
    "The LLE is a special and highly Complex PDE known for its high complexity and slow calculation times (high computational loads). While some recent numerical methods using the Julia language has drastically increased the speed, it has yet to be seen how advantagous leveraging neural net PDE solutions could be.\n",
    "\n",
    "The LLE describes the electric field propogating through a medium such that it creates a resonant cavity in the material and the material is nonlinear in the Third order. It includes a driving field and a dampening field to simulate the driving of the system and internal losses.\n",
    "\n",
    "![image.png](attachment:image.png)\n"
   ]
  },
  {
   "cell_type": "markdown",
   "id": "bf7a04de",
   "metadata": {},
   "source": [
    "## PyLLE Simulation\n",
    "#### https://usnistgov.github.io/pyLLE/\n",
    "##### Created by: - Moille G, Li Q, Lu X, Srinivasan K (2019) pyLLE: A Fast and User Friendly Lugiato-Lefever Equation Solver. J Res Natl Inst Stan 124:124012. https://doi.org/10.6028/jres.124.012\n",
    "\n",
    "**The following code requires Julia to be downloaded manually. The dependencies should be installed with,**\n",
    "\n",
    "```conda install -c conda-forge julia```\n",
    "\n",
    "and\n",
    "\n",
    "```$ pip install pyLLE```\n",
    "\n",
    "**Dependencies:**\n",
    " - Julia <- manually installed\n",
    " \n",
    "**Python Dependencies**\n",
    " - scipy\n",
    " - numpy\n",
    " - matplotlib\n",
    " - h5py\n",
    " - prettytable\n",
    " - matplotlib\n",
    " - ipdb\n",
    " \n",
    "**Julia Dependencies**\n",
    " - HDF5\n",
    " - FFTW\n",
    " - Base\n",
    " - LinearAlgebra\n",
    "\n",
    "**How It Works**\n",
    "\n",
    " Using the example data it gives us and the initial parameters, we can simulate a frequency tuning to needed to excite the soliton. We import the Julia-Python communication libraries. The heavy operations are passed to Julia, \"The Julia language provides an efficient computational interface with BLAS (basic linear algebra subprograms), enabling reuse of the same Fast\n",
    "Fourier Transform plan\". This means that the PyLLE Julia Backend is already using a human derived algorithm that is commonly included in most math libraries such as Numpy. The data is passed to Julia because Julia's BLAS provides much faster linear computing than competing languages, including Python.\n",
    "\n",
    " The code below takes in an input CSV file of resonant mode numbers comma seperated by the dispersion associated with that mode for an optical micro-ring resonator. It takes User-input initial conditions for the resonantor system and structures these inputs with the dispersion profile using H5py which allows us to pass data from Python to Julia. HDpy also calls Julia and runs the program. Julia then uses its FFT solvers and repackages the data using HDF5 and sends the data back to python structured in a class. This class also has internal functions for plotting the data."
   ]
  },
  {
   "cell_type": "code",
   "execution_count": 7,
   "id": "36df64d7",
   "metadata": {},
   "outputs": [],
   "source": [
    "import matplotlib.pyplot as plt\n",
    "import numpy as np\n",
    "import os\n",
    "import pyLLE as PyL\n"
   ]
  },
  {
   "cell_type": "code",
   "execution_count": 8,
   "id": "a259f4aa",
   "metadata": {},
   "outputs": [],
   "source": [
    "\n",
    "#This structure holds the input data for the physical resonator along with simulated dispersion profile\n",
    "res = {'R': 23e-6, # ring radius in meters\n",
    "       'Qi': 1e6,  # Intrinsic Q factor\n",
    "       'Qc': 1e6,  # Coupled Q factor\n",
    "       'γ': 1.55,  # Non-linear coefficient at the pump frequency\n",
    "       'dispfile': 'TestDispersion.csv', #  previously\n",
    "      } \n",
    "\n",
    "# This structure holds the simulation parameters, initial conditions and step sizes\n",
    "sim = {'Pin': 150e-3, # Input power in Q\n",
    "       'Tscan': 1e6,  # Length of the simulation in unit of round trip \n",
    "       'f_pmp': 191e12, # Pump Frequency \n",
    "       'δω_init': 2e9*2*np.pi, # Initial detuning of the pump in rad/s \n",
    "       'δω_end': -8e9*2*np.pi,  # End detunin of the pump in rad/s\n",
    "       'μ_sim': [-74,170],  # azimuthal mode to simulate on the left and right side of the pump\n",
    "       'μ_fit': [-71, 180], # azimuthal mode to fit the dispersion on the left and right side of the pump\n",
    "        }\n"
   ]
  },
  {
   "cell_type": "code",
   "execution_count": 9,
   "id": "eb5dca54",
   "metadata": {},
   "outputs": [
    {
     "data": {
      "text/html": [
       "        <script type=\"text/javascript\">\n",
       "        window.PlotlyConfig = {MathJaxConfig: 'local'};\n",
       "        if (window.MathJax) {MathJax.Hub.Config({SVG: {font: \"STIX-Web\"}});}\n",
       "        if (typeof require !== 'undefined') {\n",
       "        require.undef(\"plotly\");\n",
       "        requirejs.config({\n",
       "            paths: {\n",
       "                'plotly': ['https://cdn.plot.ly/plotly-latest.min']\n",
       "            }\n",
       "        });\n",
       "        require(['plotly'], function(Plotly) {\n",
       "            window._Plotly = Plotly;\n",
       "        });\n",
       "        }\n",
       "        </script>\n",
       "        "
      ]
     },
     "metadata": {},
     "output_type": "display_data"
    },
    {
     "data": {
      "application/vnd.plotly.v1+json": {
       "config": {
        "linkText": "Export to plot.ly",
        "plotlyServerURL": "https://plot.ly",
        "showLink": false
       },
       "data": [
        {
         "mode": "markers",
         "name": "FEM Simulation",
         "type": "scatter",
         "x": [
          118.01073070740755,
          118.95815580442314,
          119.98057536852245,
          120.99871244705375,
          122.01607017874818,
          123.03255947922767,
          124.0482408996932,
          125.06316516055733,
          126.07738010926167,
          127.09093066511541,
          128.10385903599717,
          129.11620490678726,
          130.12800561302763,
          131.139296300528,
          132.15011007207676,
          133.16047812235936,
          134.1704298620979,
          135.1799930323636,
          136.18919380993216,
          137.1980569044915,
          138.20660564842333,
          139.21486207983435,
          140.2228470194264,
          141.2305801417753,
          142.23808004148393,
          143.2453642946839,
          144.2524495162689,
          145.25935141323777,
          146.26608483446233,
          147.27266381718852,
          148.2791016305322,
          149.28541081620978,
          150.291603226728,
          151.29769006122504,
          152.3036818991462,
          153.30958873191352,
          154.31541999273946,
          155.32118458471749,
          156.3268909073114,
          157.3325468813565,
          158.33815997267448,
          159.34373721439093,
          160.34928522804935,
          161.3548102435896,
          162.36031811827252,
          163.3658143546102,
          164.37130411736695,
          165.37679224968522,
          166.38228328839216,
          167.38778147852923,
          168.39329078715573,
          169.39881491646744,
          170.40435731626383,
          171.40992119580696,
          172.4155095351011,
          173.4211250956282,
          174.4267704305648,
          175.43244789451043,
          176.43815965275493,
          177.44390769010673,
          178.44969381930147,
          179.4555196890235,
          180.46138679154663,
          181.46729647002326,
          182.4732499254351,
          183.47924822322562,
          184.48529229962386,
          185.49138296768388,
          186.4975209230463,
          187.50370674943812,
          188.50994092392477,
          189.51622382192542,
          190.52255572200167,
          191.5289368104301,
          192.5353671855765,
          193.5418468620663,
          194.54837577477878,
          195.55495378265508,
          196.56158067234753,
          197.56825616169638,
          198.57497990306697,
          199.58175148652947,
          200.58857044290315,
          201.5954362466701,
          202.60234831875812,
          203.60930602920354,
          204.61630869970088,
          205.6233556060372,
          206.63044598042563,
          207.63757901373552,
          208.64475385762856,
          209.6519696265982,
          210.65922539992945,
          211.6665202235654,
          212.67385311190026,
          213.68122304949426,
          214.6886289927086,
          215.69606987129322,
          216.70354458986625,
          217.71105202937133,
          218.71859104844847,
          219.72616048475612,
          220.7337591562348,
          221.7413858623146,
          222.7490393850757,
          223.7567184903574,
          224.76442192881672,
          225.77214843695074,
          226.77989673806576,
          227.7876655431452,
          228.79545355198854,
          229.8032594537152,
          230.811081927809,
          231.81891964484234,
          232.82677126722896,
          233.83463544994115,
          234.84251084119725,
          235.85039608311868,
          236.85828981235946,
          237.86619066070972,
          238.87409725566903,
          239.88200822100023,
          240.88992217725755,
          241.89783774228752,
          242.9057535317149,
          243.91366815940353,
          244.9215802378943,
          245.92948837883168,
          246.93739119336263,
          247.94528729252335,
          248.95317528760734,
          249.96105379051428,
          250.96892141408952,
          251.97677677243658,
          252.984618481235,
          253.9924451580155,
          255.00025542245123,
          256.0080478966143,
          257.01582120523284,
          258.02357397591186,
          259.0313048394242,
          260.0390124298404,
          261.04669538479004,
          262.0543523456461,
          263.06198195771304,
          264.0695828703982,
          265.07715373738756,
          266.08469321679644,
          267.09219997132845,
          268.09967266841096,
          269.1071099803345,
          270.11451058437825,
          271.12187316292807,
          272.12919640359314,
          273.13647899931004,
          274.14371964843974,
          275.15091705486896,
          276.15806992809166,
          277.16517698328926,
          278.172236941412,
          279.1792485292487,
          280.18621047949415,
          281.19312153079755,
          282.1999804278406,
          283.2067859213708,
          284.2135367682584,
          285.2202317315341,
          286.22686958043107,
          287.233449090419,
          288.2399690432353,
          289.2464282269153,
          290.2528254358096,
          291.2591594706152,
          292.26542913838193,
          293.271633252539,
          294.27777063289454,
          295.2838401056523,
          296.2898405034163,
          297.2957706651914,
          298.30162943638857,
          299.3074156688193,
          300.31312822069316,
          301.31876595661356,
          302.32432774756523,
          303.3298124709079,
          304.335219010364,
          305.34054625600095,
          306.3457931042165,
          307.35095845772395,
          308.3560412255302,
          309.36104032291513,
          310.3659546714075,
          311.37078319876423,
          312.37552483894507,
          313.38017853207975,
          314.3847432244498,
          315.38921786845214,
          316.3936014225716,
          317.39789285134754,
          318.402091125345,
          319.4061952211201,
          320.4102041211821,
          321.4141168139656,
          322.41793229378527,
          323.4216495608097,
          324.42526762101176,
          325.42878548613555,
          326.43220217367053,
          327.4355167067882,
          328.4387281143158,
          329.4418354306967,
          330.4448376959434,
          331.4477339556078,
          332.45052326071385,
          333.4532046677371,
          334.45577723856394,
          335.45824004043095,
          336.4605921458926,
          337.4628326327765,
          338.46496058413675,
          339.4669750882103,
          340.46887523837694,
          341.4706601330983,
          342.47232887591247,
          343.4738805753329,
          344.47531434484364,
          345.4766293028408,
          346.4778245725898,
          347.4788992821783,
          348.47985256447083,
          349.4806835570643,
          350.48139140224526,
          351.4819752469372,
          352.48243424266207,
          353.48276754549187,
          354.4829743160045,
          355.48305371923556,
          356.48300492464125,
          357.4828271060449,
          358.48251944159534,
          359.4820811137236,
          360.4815113090997,
          361.48080921857735,
          362.4799740371717,
          363.47900496399114,
          364.47790120221225,
          365.4766619590257,
          366.475286445594,
          367.4737738770169,
          368.4721234722777,
          369.47033445420743,
          370.4684060494393,
          371.4663374883705,
          372.4641280051175,
          373.4617768374732,
          374.4592832268732,
          375.4566464183405,
          376.45386566046466,
          377.45094020534566,
          378.44786930855815,
          379.4446522291184,
          380.44128822943736,
          381.43777657527977,
          382.43411653573713,
          383.4303073831804,
          384.4263483932226
         ],
         "y": [
          -54.153329575617725,
          -113.08478374081584,
          -97.02177082230472,
          -85.24124347182283,
          -74.240062958212,
          -64.10731365954001,
          -54.78244437481968,
          -46.21473469150629,
          -38.35633716796756,
          -31.162332495055075,
          -24.5905127940959,
          -18.601193184840678,
          -13.157038125278257,
          -8.22290180568731,
          -3.7656814377595973,
          0.24581766402944233,
          3.841006221744434,
          7.047625306610163,
          9.89185169437158,
          12.39839507291543,
          14.590587823921192,
          16.490468054134144,
          18.118856465372605,
          19.495427633481683,
          20.63877616128433,
          21.566478180447998,
          22.295148584616797,
          22.840494372677455,
          23.21736441643046,
          23.439795961804908,
          23.521058124671022,
          23.47369262143496,
          23.309551958844356,
          23.039835275044894,
          22.675122015413425,
          22.225403601924775,
          21.70011324705037,
          21.10815404428741,
          20.457925457370415,
          19.757348321642755,
          19.01388845881056,
          18.234578994464524,
          17.42604147205212,
          16.594505831518024,
          15.74582933360273,
          14.885514490437386,
          14.018726066395232,
          13.150307203849495,
          12.28479472999949,
          11.426433686264662,
          10.579191131951939,
          9.746769262840653,
          8.932617878425852,
          8.139946240732158,
          7.3717343540821565,
          6.630743700355933,
          5.919527456121697,
          5.240440220961781,
          4.595647284627298,
          3.9871334556015774,
          3.4167114695343184,
          2.8860300107700945,
          2.3965813530588598,
          1.9497086488523425,
          1.5466128799585075,
          1.1883594896474041,
          0.8758847070707131,
          0.6100015862369109,
          0.3914057678578839,
          0.22068097886840962,
          0.09830428473822281,
          0.02465110456363833,
          0,
          0.02453724762404074,
          0.09836121318812724,
          0.22148652219596618,
          0.3938480538561125,
          0.6153047493414474,
          0.8856432609732914,
          1.2045814290009247,
          1.5717716187624342,
          1.9868039004811098,
          2.4492090933424633,
          2.958461679462083,
          3.5139825866700223,
          4.115141851252578,
          4.761261167773632,
          5.4516163233097155,
          6.185439530940001,
          6.961921660024301,
          7.780214372221567,
          8.639432161060482,
          9.538654311534694,
          10.476926766671996,
          11.453263920693269,
          12.46665033390701,
          13.51604236738974,
          14.600369771193186,
          15.718537163450744,
          16.869425487719504,
          18.051893384020502,
          19.264778510859273,
          20.506898808717125,
          21.77705370767909,
          23.074025287991756,
          24.396579388895734,
          25.74346666740396,
          27.11342362059366,
          28.505173554780352,
          29.917427453469383,
          31.34888511599013,
          32.79823566181826,
          34.26415857479128,
          35.74532442730336,
          37.24039563310816,
          38.748027164471054,
          40.26686723979803,
          41.79555798042836,
          43.332736040370946,
          44.877033209819785,
          46.427076988310816,
          47.98149113874021,
          49.53889621524153,
          51.097910064364676,
          52.657148310936094,
          54.21522481873281,
          55.77075212871552,
          57.32234188528537,
          58.86860523540469,
          60.408153215303784,
          61.939597118486915,
          63.46154884459995,
          64.9726212390272,
          66.47142840531262,
          67.95658602291259,
          69.42671162257382,
          70.88042487750725,
          72.31634785974695,
          73.73310529750361,
          75.1293247957135,
          76.50363712721247,
          77.85467636260634,
          79.18108013144426,
          80.48148980671894,
          81.75455069282872,
          82.99891219722616,
          84.21322800572727,
          85.39615623374834,
          86.54635958498359,
          87.66250548660717,
          88.74326622936938,
          89.78731909237409,
          90.79334646133091,
          91.7600359456136,
          92.68608048167103,
          93.57017843058917,
          94.41103367895546,
          95.20735572086353,
          95.95785973764968,
          96.66126667957924,
          97.31630333551665,
          97.9217024001286,
          98.47620252270478,
          98.97854838494497,
          99.42749073430188,
          99.82178644107805,
          100.1601985359864,
          100.44149625212735,
          100.66445505924693,
          100.82785669477197,
          100.93048919393017,
          100.97114690741637,
          100.9486305322287,
          100.8617471181543,
          100.70931009438777,
          100.49013926913351,
          100.20306084603833,
          99.84690742928441,
          99.42051802354959,
          98.92273803989606,
          98.352419289802,
          97.70841998285393,
          96.98960472244943,
          96.19484449330355,
          95.3230166551224,
          94.37300493050729,
          93.34369938657242,
          92.23399642129735,
          91.04279874792971,
          89.76901537338007,
          88.41156157745208,
          86.96935888904885,
          85.44133506500542,
          83.82642406498198,
          82.12356601887689,
          80.33170720808626,
          78.44980002961442,
          76.4768029682219,
          74.41168056344048,
          72.2534033800898,
          70.00094797429772,
          67.65329685558173,
          65.2094384582408,
          62.66836709703072,
          60.0290829407444,
          57.29059196191894,
          54.451905904924985,
          51.512042259069595,
          48.47002419592898,
          45.32488054272984,
          42.075645742799324,
          38.721359808773535,
          35.26106829227846,
          31.6938222175624,
          28.018678059970235,
          24.234697705955753,
          20.340948392204893,
          16.336502672969182,
          12.220438376099192,
          7.991838555536777,
          3.6497914483034597,
          -0.8066095659249263,
          -5.378266025336906,
          -10.066074391953672,
          -14.870926152413954,
          -19.79370782247014,
          -24.835301006074552,
          -29.99658243791361,
          -35.27842403019938,
          -40.68169291854599,
          -46.207251505816814,
          -51.85595750573292,
          -57.62866399451884,
          -63.52621945049242,
          -69.5494678015327,
          -75.69924846972296,
          -81.97639641945517,
          -88.38174219459287,
          -94.9161119717083,
          -101.58032760209942,
          -108.37520665464234,
          -115.30156245943957,
          -122.36020416252954,
          -129.55193674900386,
          -136.87756111040937,
          -144.3378740700539,
          -151.93366843751676,
          -159.66573304994938,
          -167.53485280780578,
          -175.54180872792062,
          -183.6873779789211,
          -191.97233392793908,
          -200.39744617745544,
          -208.9634806112958,
          -217.67119943640864,
          -226.52136121732244,
          -235.51472093081543,
          -244.65202998740142,
          -253.93403628719318,
          -263.36148425555325,
          -272.93511487619804,
          -282.6556657379895,
          -292.5238710763949,
          -302.540461799827,
          -312.7061655373906,
          -323.021706676045
         ]
        },
        {
         "mode": "lines",
         "name": "LLE simulation",
         "type": "scatter",
         "x": [
          116.05217514732824,
          117.05853164158059,
          118.06488813583293,
          119.07124463008527,
          120.07760112433762,
          121.08395761858996,
          122.09031411284231,
          123.09667060709465,
          124.103027101347,
          125.10938359559933,
          126.11574008985168,
          127.12209658410403,
          128.12845307835636,
          129.1348095726087,
          130.14116606686105,
          131.1475225611134,
          132.15387905536573,
          133.16023554961808,
          134.16659204387042,
          135.17294853812277,
          136.1793050323751,
          137.18566152662746,
          138.1920180208798,
          139.19837451513214,
          140.2047310093845,
          141.21108750363683,
          142.21744399788918,
          143.22380049214152,
          144.23015698639387,
          145.2365134806462,
          146.24286997489855,
          147.2492264691509,
          148.25558296340324,
          149.2619394576556,
          150.26829595190793,
          151.27465244616027,
          152.28100894041262,
          153.28736543466496,
          154.2937219289173,
          155.30007842316965,
          156.306434917422,
          157.31279141167434,
          158.31914790592668,
          159.32550440017903,
          160.33186089443137,
          161.33821738868372,
          162.34457388293606,
          163.3509303771884,
          164.35728687144075,
          165.3636433656931,
          166.36999985994544,
          167.37635635419778,
          168.38271284845013,
          169.38906934270247,
          170.39542583695481,
          171.40178233120716,
          172.4081388254595,
          173.41449531971185,
          174.4208518139642,
          175.42720830821654,
          176.43356480246888,
          177.43992129672122,
          178.44627779097357,
          179.4526342852259,
          180.45899077947826,
          181.4653472737306,
          182.47170376798294,
          183.4780602622353,
          184.48441675648763,
          185.49077325073998,
          186.49712974499232,
          187.50348623924467,
          188.509842733497,
          189.51619922774935,
          190.52255572200167,
          191.528912216254,
          192.53526871050636,
          193.5416252047587,
          194.54798169901105,
          195.5543381932634,
          196.56069468751573,
          197.56705118176808,
          198.57340767602042,
          199.57976417027277,
          200.5861206645251,
          201.59247715877746,
          202.5988336530298,
          203.60519014728212,
          204.6115466415345,
          205.61790313578683,
          206.62425963003915,
          207.63061612429152,
          208.63697261854387,
          209.64332911279618,
          210.64968560704855,
          211.6560421013009,
          212.6623985955532,
          213.6687550898056,
          214.67511158405793,
          215.68146807831025,
          216.68782457256262,
          217.69418106681496,
          218.70053756106728,
          219.70689405531965,
          220.713250549572,
          221.7196070438243,
          222.72596353807668,
          223.73232003232903,
          224.7386765265814,
          225.74503302083372,
          226.75138951508606,
          227.75774600933838,
          228.76410250359075,
          229.7704589978431,
          230.77681549209547,
          231.78317198634778,
          232.78952848060013,
          233.79588497485244,
          234.8022414691048,
          235.80859796335716,
          236.81495445760953,
          237.82131095186185,
          238.8276674461142,
          239.8340239403665,
          240.84038043461888,
          241.84673692887122,
          242.8530934231236,
          243.8594499173759,
          244.86580641162826,
          245.87216290588054,
          246.87851940013294,
          247.8848758943853,
          248.89123238863766,
          249.89758888288998,
          250.90394537714232,
          251.9103018713946,
          252.91665836564698,
          253.92301485989933,
          254.92937135415173,
          255.935727848404,
          256.94208434265636,
          257.9484408369087,
          258.95479733116105,
          259.9611538254134,
          260.9675103196658,
          261.9738668139181,
          262.9802233081704,
          263.98657980242274,
          264.9929362966751,
          265.9992927909275,
          267.00564928517986,
          268.0120057794322,
          269.0183622736845,
          270.02471876793686,
          271.0310752621892,
          272.03743175644155,
          273.0437882506939,
          274.05014474494624,
          275.05650123919855,
          276.06285773345087,
          277.06921422770324,
          278.0755707219556,
          279.0819272162079,
          280.0882837104603,
          281.0946402047126,
          282.10099669896493,
          283.1073531932173,
          284.1137096874696,
          285.120066181722,
          286.12642267597437,
          287.1327791702267,
          288.139135664479,
          289.1454921587314,
          290.15184865298374,
          291.15820514723606,
          292.16456164148843,
          293.17091813574075,
          294.17727462999306,
          295.18363112424544,
          296.1899876184978,
          297.1963441127501,
          298.2027006070025,
          299.2090571012548,
          300.21541359550713,
          301.2217700897595,
          302.2281265840119,
          303.2344830782642,
          304.24083957251656,
          305.2471960667689,
          306.25355256102125,
          307.25990905527357,
          308.26626554952594,
          309.27262204377826,
          310.27897853803063,
          311.28533503228294,
          312.2916915265353,
          313.29804802078763,
          314.30440451504,
          315.3107610092923,
          316.31711750354464,
          317.323473997797,
          318.3298304920494,
          319.3361869863017,
          320.34254348055407,
          321.3488999748064,
          322.3552564690587,
          323.3616129633111,
          324.36796945756345,
          325.37432595181576,
          326.38068244606814,
          327.38703894032045,
          328.39339543457277,
          329.39975192882514,
          330.40610842307746,
          331.4124649173298,
          332.41882141158214,
          333.4251779058345,
          334.43153440008683,
          335.4378908943392,
          336.4442473885915,
          337.4506038828439,
          338.45696037709627,
          339.4633168713486,
          340.46967336560084,
          341.47602985985327,
          342.48238635410553,
          343.48874284835796,
          344.49509934261033,
          345.5014558368626,
          346.5078123311149,
          347.5141688253673,
          348.5205253196196,
          349.5268818138721,
          350.5332383081244,
          351.53959480237666,
          352.54595129662897,
          353.55230779088134,
          354.55866428513366,
          355.56502077938603,
          356.57137727363835,
          357.5777337678907,
          358.58409026214304,
          359.5904467563954,
          360.5968032506477,
          361.60315974490004
         ],
         "y": [
          -231.73466509186733,
          -175.96463795686287,
          -137.9068751460905,
          -113.08478374081585,
          -97.02177082230473,
          -85.24124347182284,
          -74.24006295821198,
          -64.10731365954001,
          -54.782444374819676,
          -46.21473469150629,
          -38.35633716796756,
          -31.162332495055075,
          -24.590512794095908,
          -18.601193184840685,
          -13.157038125278257,
          -8.222901805687313,
          -3.7656814377595964,
          0.24581766402944227,
          3.841006221744434,
          7.047625306610163,
          9.891851694371578,
          12.39839507291543,
          14.590587823921188,
          16.490468054134144,
          18.118856465372605,
          19.495427633481683,
          20.63877616128433,
          21.566478180447998,
          22.295148584616793,
          22.84049437267745,
          23.217364416430463,
          23.439795961804904,
          23.52105812467102,
          23.473692621434953,
          23.309551958844356,
          23.039835275044886,
          22.67512201541343,
          22.22540360192477,
          21.70011324705037,
          21.108154044287406,
          20.45792545737042,
          19.757348321642755,
          19.01388845881056,
          18.234578994464524,
          17.426041472052116,
          16.594505831518024,
          15.745829333602728,
          14.885514490437386,
          14.018726066395232,
          13.150307203849495,
          12.28479472999949,
          11.426433686264662,
          10.579191131951942,
          9.746769262840653,
          8.932617878425852,
          8.139946240732158,
          7.371734354082157,
          6.630743700355934,
          5.919527456121697,
          5.240440220961781,
          4.595647284627297,
          3.9871334556015774,
          3.4167114695343184,
          2.8860300107700945,
          2.3965813530588598,
          1.9497086488523425,
          1.5466128799585075,
          1.1883594896474043,
          0.8758847070707131,
          0.6100015862369109,
          0.3914057678578839,
          0.22068097886840954,
          0.09830428473822281,
          0.02465110456363833,
          -5.928983654524958e-19,
          0.024537247624040737,
          0.09836121318812724,
          0.22148652219596615,
          0.3938480538561124,
          0.6153047493414475,
          0.8856432609732913,
          1.2045814290009247,
          1.5717716187624342,
          1.98680390048111,
          2.4492090933424637,
          2.9584616794620824,
          3.5139825866700223,
          4.115141851252577,
          4.7612611677736325,
          5.451616323309715,
          6.185439530940001,
          6.961921660024302,
          7.780214372221566,
          8.639432161060482,
          9.538654311534694,
          10.476926766671992,
          11.453263920693269,
          12.46665033390701,
          13.51604236738974,
          14.600369771193186,
          15.718537163450744,
          16.869425487719504,
          18.051893384020506,
          19.264778510859273,
          20.506898808717125,
          21.777053707679087,
          23.074025287991756,
          24.396579388895734,
          25.74346666740396,
          27.11342362059366,
          28.505173554780352,
          29.917427453469394,
          31.348885115990136,
          32.79823566181827,
          34.26415857479128,
          35.74532442730336,
          37.24039563310816,
          38.74802716447105,
          40.266867239798025,
          41.79555798042836,
          43.332736040370946,
          44.877033209819785,
          46.427076988310816,
          47.98149113874021,
          49.53889621524154,
          51.097910064364676,
          52.657148310936094,
          54.215224818732814,
          55.77075212871552,
          57.32234188528537,
          58.868605235404694,
          60.408153215303784,
          61.93959711848693,
          63.46154884459995,
          64.9726212390272,
          66.47142840531262,
          67.95658602291259,
          69.4267116225738,
          70.88042487750724,
          72.31634785974695,
          73.73310529750361,
          75.1293247957135,
          76.50363712721246,
          77.85467636260634,
          79.18108013144426,
          80.48148980671894,
          81.75455069282872,
          82.99891219722616,
          84.21322800572727,
          85.39615623374834,
          86.54635958498358,
          87.66250548660717,
          88.74326622936938,
          89.78731909237409,
          90.79334646133091,
          91.76003594561358,
          92.68608048167103,
          93.57017843058917,
          94.41103367895546,
          95.20735572086353,
          95.95785973764968,
          96.66126667957924,
          97.31630333551665,
          97.9217024001286,
          98.4762025227048,
          98.97854838494499,
          99.42749073430187,
          99.82178644107805,
          100.1601985359864,
          100.44149625212732,
          100.66445505924693,
          100.82785669477198,
          100.93048919393017,
          100.97114690741637,
          100.94863053222869,
          100.86174711815431,
          100.70931009438777,
          100.49013926913351,
          100.20306084603833,
          99.84690742928443,
          99.42051802354956,
          98.92273803989607,
          98.352419289802,
          97.70841998285393,
          96.98960472244943,
          96.19484449330355,
          95.32301665512239,
          94.37300493050729,
          93.34369938657242,
          92.23399642129736,
          91.04279874792971,
          89.76901537338007,
          88.41156157745208,
          86.96935888904882,
          85.44133506500543,
          83.82642406498198,
          82.12356601887689,
          80.33170720808624,
          78.44980002961442,
          76.4768029682219,
          74.41168056344048,
          72.25340338008978,
          70.00094797429772,
          67.65329685558173,
          65.20943845824078,
          62.66836709703072,
          60.0290829407444,
          57.29059196191894,
          54.451905904924985,
          51.51204225906959,
          48.47002419592898,
          45.32488054272984,
          42.07564574279932,
          38.721359808773535,
          35.26106829227846,
          31.6938222175624,
          28.018678059970235,
          24.234697705955753,
          20.340948392204897,
          16.336502672969182,
          12.220438376099194,
          7.991838555536777,
          3.6497914483034606,
          -0.8066095659249263,
          -5.378266025336905,
          -10.066074391953675,
          -14.870926152413954,
          -19.793707822470136,
          -24.835301006074555,
          -29.99658243791361,
          -35.27842403019938,
          -40.681692918546005,
          -46.207251505816814,
          -51.85595750573292,
          -57.62866399451885,
          -63.52621945049241,
          -69.54946780153271,
          -75.69924846972296,
          -81.97639641945517,
          -88.38174219459287,
          -94.91611197170832,
          -101.58032760209942,
          -108.37520665464234,
          -115.30156245943957,
          -122.36020416252957
         ]
        },
        {
         "line": {
          "dash": "dash",
          "width": 2
         },
         "name": "Fit",
         "type": "scatter",
         "x": [
          118.95815580442314,
          119.98057536852245,
          120.99871244705375,
          122.01607017874818,
          123.03255947922767,
          124.0482408996932,
          125.06316516055733,
          126.07738010926167,
          127.09093066511541,
          128.10385903599717,
          129.11620490678726,
          130.12800561302763,
          131.139296300528,
          132.15011007207676,
          133.16047812235936,
          134.1704298620979,
          135.1799930323636,
          136.18919380993216,
          137.1980569044915,
          138.20660564842333,
          139.21486207983435,
          140.2228470194264,
          141.2305801417753,
          142.23808004148393,
          143.2453642946839,
          144.2524495162689,
          145.25935141323777,
          146.26608483446233,
          147.27266381718852,
          148.2791016305322,
          149.28541081620978,
          150.291603226728,
          151.29769006122504,
          152.3036818991462,
          153.30958873191352,
          154.31541999273946,
          155.32118458471749,
          156.3268909073114,
          157.3325468813565,
          158.33815997267448,
          159.34373721439093,
          160.34928522804935,
          161.3548102435896,
          162.36031811827252,
          163.3658143546102,
          164.37130411736695,
          165.37679224968522,
          166.38228328839216,
          167.38778147852923,
          168.39329078715573,
          169.39881491646744,
          170.40435731626383,
          171.40992119580696,
          172.4155095351011,
          173.4211250956282,
          174.4267704305648,
          175.43244789451043,
          176.43815965275493,
          177.44390769010673,
          178.44969381930147,
          179.4555196890235,
          180.46138679154663,
          181.46729647002326,
          182.4732499254351,
          183.47924822322562,
          184.48529229962386,
          185.49138296768388,
          186.4975209230463,
          187.50370674943812,
          188.50994092392477,
          189.51622382192542,
          190.52255572200167,
          191.5289368104301,
          192.5353671855765,
          193.5418468620663,
          194.54837577477878,
          195.55495378265508,
          196.56158067234753,
          197.56825616169638,
          198.57497990306697,
          199.58175148652947,
          200.58857044290315,
          201.5954362466701,
          202.60234831875812,
          203.60930602920354,
          204.61630869970088,
          205.6233556060372,
          206.63044598042563,
          207.63757901373552,
          208.64475385762856,
          209.6519696265982,
          210.65922539992945,
          211.6665202235654,
          212.67385311190026,
          213.68122304949426,
          214.6886289927086,
          215.69606987129322,
          216.70354458986625,
          217.71105202937133,
          218.71859104844847,
          219.72616048475612,
          220.7337591562348,
          221.7413858623146,
          222.7490393850757,
          223.7567184903574,
          224.76442192881672,
          225.77214843695074,
          226.77989673806576,
          227.7876655431452,
          228.79545355198854,
          229.8032594537152,
          230.811081927809,
          231.81891964484234,
          232.82677126722896,
          233.83463544994115,
          234.84251084119725,
          235.85039608311868,
          236.85828981235946,
          237.86619066070972,
          238.87409725566903,
          239.88200822100023,
          240.88992217725755,
          241.89783774228752,
          242.9057535317149,
          243.91366815940353,
          244.9215802378943,
          245.92948837883168,
          246.93739119336263,
          247.94528729252335,
          248.95317528760734,
          249.96105379051428,
          250.96892141408952,
          251.97677677243658,
          252.984618481235,
          253.9924451580155,
          255.00025542245123,
          256.0080478966143,
          257.01582120523284,
          258.02357397591186,
          259.0313048394242,
          260.0390124298404,
          261.04669538479004,
          262.0543523456461,
          263.06198195771304,
          264.0695828703982,
          265.07715373738756,
          266.08469321679644,
          267.09219997132845,
          268.09967266841096,
          269.1071099803345,
          270.11451058437825,
          271.12187316292807,
          272.12919640359314,
          273.13647899931004,
          274.14371964843974,
          275.15091705486896,
          276.15806992809166,
          277.16517698328926,
          278.172236941412,
          279.1792485292487,
          280.18621047949415,
          281.19312153079755,
          282.1999804278406,
          283.2067859213708,
          284.2135367682584,
          285.2202317315341,
          286.22686958043107,
          287.233449090419,
          288.2399690432353,
          289.2464282269153,
          290.2528254358096,
          291.2591594706152,
          292.26542913838193,
          293.271633252539,
          294.27777063289454,
          295.2838401056523,
          296.2898405034163,
          297.2957706651914,
          298.30162943638857,
          299.3074156688193,
          300.31312822069316,
          301.31876595661356,
          302.32432774756523,
          303.3298124709079,
          304.335219010364,
          305.34054625600095,
          306.3457931042165,
          307.35095845772395,
          308.3560412255302,
          309.36104032291513,
          310.3659546714075,
          311.37078319876423,
          312.37552483894507,
          313.38017853207975,
          314.3847432244498,
          315.38921786845214,
          316.3936014225716,
          317.39789285134754,
          318.402091125345,
          319.4061952211201,
          320.4102041211821,
          321.4141168139656,
          322.41793229378527,
          323.4216495608097,
          324.42526762101176,
          325.42878548613555,
          326.43220217367053,
          327.4355167067882,
          328.4387281143158,
          329.4418354306967,
          330.4448376959434,
          331.4477339556078,
          332.45052326071385,
          333.4532046677371,
          334.45577723856394,
          335.45824004043095,
          336.4605921458926,
          337.4628326327765,
          338.46496058413675,
          339.4669750882103,
          340.46887523837694,
          341.4706601330983,
          342.47232887591247,
          343.4738805753329,
          344.47531434484364,
          345.4766293028408,
          346.4778245725898,
          347.4788992821783,
          348.47985256447083,
          349.4806835570643,
          350.48139140224526,
          351.4819752469372,
          352.48243424266207,
          353.48276754549187,
          354.4829743160045,
          355.48305371923556,
          356.48300492464125,
          357.4828271060449,
          358.48251944159534,
          359.4820811137236,
          360.4815113090997,
          361.48080921857735,
          362.4799740371717,
          363.47900496399114,
          364.47790120221225,
          365.4766619590257,
          366.475286445594,
          367.4737738770169,
          368.4721234722777,
          369.47033445420743,
          370.4684060494393,
          371.4663374883705
         ],
         "y": [
          -113.08478374081585,
          -97.02177082230473,
          -85.24124347182284,
          -74.24006295821198,
          -64.10731365954001,
          -54.782444374819676,
          -46.21473469150629,
          -38.35633716796756,
          -31.162332495055075,
          -24.590512794095908,
          -18.601193184840685,
          -13.157038125278257,
          -8.222901805687313,
          -3.7656814377595964,
          0.24581766402944227,
          3.841006221744434,
          7.047625306610163,
          9.891851694371578,
          12.39839507291543,
          14.590587823921188,
          16.490468054134144,
          18.118856465372605,
          19.495427633481683,
          20.63877616128433,
          21.566478180447998,
          22.295148584616793,
          22.84049437267745,
          23.217364416430463,
          23.439795961804904,
          23.52105812467102,
          23.473692621434953,
          23.309551958844356,
          23.039835275044886,
          22.67512201541343,
          22.22540360192477,
          21.70011324705037,
          21.108154044287406,
          20.45792545737042,
          19.757348321642755,
          19.01388845881056,
          18.234578994464524,
          17.426041472052116,
          16.594505831518024,
          15.745829333602728,
          14.885514490437386,
          14.018726066395232,
          13.150307203849495,
          12.28479472999949,
          11.426433686264662,
          10.579191131951942,
          9.746769262840653,
          8.932617878425852,
          8.139946240732158,
          7.371734354082157,
          6.630743700355934,
          5.919527456121697,
          5.240440220961781,
          4.595647284627297,
          3.9871334556015774,
          3.4167114695343184,
          2.8860300107700945,
          2.3965813530588598,
          1.9497086488523425,
          1.5466128799585075,
          1.1883594896474043,
          0.8758847070707131,
          0.6100015862369109,
          0.3914057678578839,
          0.22068097886840954,
          0.09830428473822281,
          0.02465110456363833,
          -5.928983654524958e-19,
          0.024537247624040737,
          0.09836121318812724,
          0.22148652219596615,
          0.3938480538561124,
          0.6153047493414475,
          0.8856432609732913,
          1.2045814290009247,
          1.5717716187624342,
          1.98680390048111,
          2.4492090933424637,
          2.9584616794620824,
          3.5139825866700223,
          4.115141851252577,
          4.7612611677736325,
          5.451616323309715,
          6.185439530940001,
          6.961921660024302,
          7.780214372221566,
          8.639432161060482,
          9.538654311534694,
          10.476926766671992,
          11.453263920693269,
          12.46665033390701,
          13.51604236738974,
          14.600369771193186,
          15.718537163450744,
          16.869425487719504,
          18.051893384020506,
          19.264778510859273,
          20.506898808717125,
          21.777053707679087,
          23.074025287991756,
          24.396579388895734,
          25.74346666740396,
          27.11342362059366,
          28.505173554780352,
          29.917427453469394,
          31.348885115990136,
          32.79823566181827,
          34.26415857479128,
          35.74532442730336,
          37.24039563310816,
          38.74802716447105,
          40.266867239798025,
          41.79555798042836,
          43.332736040370946,
          44.877033209819785,
          46.427076988310816,
          47.98149113874021,
          49.53889621524154,
          51.097910064364676,
          52.657148310936094,
          54.215224818732814,
          55.77075212871552,
          57.32234188528537,
          58.868605235404694,
          60.408153215303784,
          61.93959711848693,
          63.46154884459995,
          64.9726212390272,
          66.47142840531262,
          67.95658602291259,
          69.4267116225738,
          70.88042487750724,
          72.31634785974695,
          73.73310529750361,
          75.1293247957135,
          76.50363712721246,
          77.85467636260634,
          79.18108013144426,
          80.48148980671894,
          81.75455069282872,
          82.99891219722616,
          84.21322800572727,
          85.39615623374834,
          86.54635958498358,
          87.66250548660717,
          88.74326622936938,
          89.78731909237409,
          90.79334646133091,
          91.76003594561358,
          92.68608048167103,
          93.57017843058917,
          94.41103367895546,
          95.20735572086353,
          95.95785973764968,
          96.66126667957924,
          97.31630333551665,
          97.9217024001286,
          98.4762025227048,
          98.97854838494499,
          99.42749073430187,
          99.82178644107805,
          100.1601985359864,
          100.44149625212732,
          100.66445505924693,
          100.82785669477198,
          100.93048919393017,
          100.97114690741637,
          100.94863053222869,
          100.86174711815431,
          100.70931009438777,
          100.49013926913351,
          100.20306084603833,
          99.84690742928443,
          99.42051802354956,
          98.92273803989607,
          98.352419289802,
          97.70841998285393,
          96.98960472244943,
          96.19484449330355,
          95.32301665512239,
          94.37300493050729,
          93.34369938657242,
          92.23399642129736,
          91.04279874792971,
          89.76901537338007,
          88.41156157745208,
          86.96935888904882,
          85.44133506500543,
          83.82642406498198,
          82.12356601887689,
          80.33170720808624,
          78.44980002961442,
          76.4768029682219,
          74.41168056344048,
          72.25340338008978,
          70.00094797429772,
          67.65329685558173,
          65.20943845824078,
          62.66836709703072,
          60.0290829407444,
          57.29059196191894,
          54.451905904924985,
          51.51204225906959,
          48.47002419592898,
          45.32488054272984,
          42.07564574279932,
          38.721359808773535,
          35.26106829227846,
          31.6938222175624,
          28.018678059970235,
          24.234697705955753,
          20.340948392204897,
          16.336502672969182,
          12.220438376099194,
          7.991838555536777,
          3.6497914483034606,
          -0.8066095659249263,
          -5.378266025336905,
          -10.066074391953675,
          -14.870926152413954,
          -19.793707822470136,
          -24.835301006074555,
          -29.99658243791361,
          -35.27842403019938,
          -40.681692918546005,
          -46.207251505816814,
          -51.85595750573292,
          -57.62866399451885,
          -63.52621945049241,
          -69.54946780153271,
          -75.69924846972296,
          -81.97639641945517,
          -88.38174219459287,
          -94.91611197170832,
          -101.58032760209942,
          -108.37520665464234,
          -115.30156245943957,
          -122.36020416252957,
          -129.55193674900386,
          -136.87756111040937,
          -144.3378740700539,
          -151.93366843751676,
          -159.6657330499494,
          -167.53485280780575,
          -175.54180872792068,
          -183.6873779789211,
          -191.97233392793908,
          -200.39744617745544
         ]
        }
       ],
       "layout": {
        "template": {
         "data": {
          "bar": [
           {
            "error_x": {
             "color": "#2a3f5f"
            },
            "error_y": {
             "color": "#2a3f5f"
            },
            "marker": {
             "line": {
              "color": "#E5ECF6",
              "width": 0.5
             }
            },
            "type": "bar"
           }
          ],
          "barpolar": [
           {
            "marker": {
             "line": {
              "color": "#E5ECF6",
              "width": 0.5
             }
            },
            "type": "barpolar"
           }
          ],
          "carpet": [
           {
            "aaxis": {
             "endlinecolor": "#2a3f5f",
             "gridcolor": "white",
             "linecolor": "white",
             "minorgridcolor": "white",
             "startlinecolor": "#2a3f5f"
            },
            "baxis": {
             "endlinecolor": "#2a3f5f",
             "gridcolor": "white",
             "linecolor": "white",
             "minorgridcolor": "white",
             "startlinecolor": "#2a3f5f"
            },
            "type": "carpet"
           }
          ],
          "choropleth": [
           {
            "colorbar": {
             "outlinewidth": 0,
             "ticks": ""
            },
            "type": "choropleth"
           }
          ],
          "contour": [
           {
            "colorbar": {
             "outlinewidth": 0,
             "ticks": ""
            },
            "colorscale": [
             [
              0,
              "#0d0887"
             ],
             [
              0.1111111111111111,
              "#46039f"
             ],
             [
              0.2222222222222222,
              "#7201a8"
             ],
             [
              0.3333333333333333,
              "#9c179e"
             ],
             [
              0.4444444444444444,
              "#bd3786"
             ],
             [
              0.5555555555555556,
              "#d8576b"
             ],
             [
              0.6666666666666666,
              "#ed7953"
             ],
             [
              0.7777777777777778,
              "#fb9f3a"
             ],
             [
              0.8888888888888888,
              "#fdca26"
             ],
             [
              1,
              "#f0f921"
             ]
            ],
            "type": "contour"
           }
          ],
          "contourcarpet": [
           {
            "colorbar": {
             "outlinewidth": 0,
             "ticks": ""
            },
            "type": "contourcarpet"
           }
          ],
          "heatmap": [
           {
            "colorbar": {
             "outlinewidth": 0,
             "ticks": ""
            },
            "colorscale": [
             [
              0,
              "#0d0887"
             ],
             [
              0.1111111111111111,
              "#46039f"
             ],
             [
              0.2222222222222222,
              "#7201a8"
             ],
             [
              0.3333333333333333,
              "#9c179e"
             ],
             [
              0.4444444444444444,
              "#bd3786"
             ],
             [
              0.5555555555555556,
              "#d8576b"
             ],
             [
              0.6666666666666666,
              "#ed7953"
             ],
             [
              0.7777777777777778,
              "#fb9f3a"
             ],
             [
              0.8888888888888888,
              "#fdca26"
             ],
             [
              1,
              "#f0f921"
             ]
            ],
            "type": "heatmap"
           }
          ],
          "heatmapgl": [
           {
            "colorbar": {
             "outlinewidth": 0,
             "ticks": ""
            },
            "colorscale": [
             [
              0,
              "#0d0887"
             ],
             [
              0.1111111111111111,
              "#46039f"
             ],
             [
              0.2222222222222222,
              "#7201a8"
             ],
             [
              0.3333333333333333,
              "#9c179e"
             ],
             [
              0.4444444444444444,
              "#bd3786"
             ],
             [
              0.5555555555555556,
              "#d8576b"
             ],
             [
              0.6666666666666666,
              "#ed7953"
             ],
             [
              0.7777777777777778,
              "#fb9f3a"
             ],
             [
              0.8888888888888888,
              "#fdca26"
             ],
             [
              1,
              "#f0f921"
             ]
            ],
            "type": "heatmapgl"
           }
          ],
          "histogram": [
           {
            "marker": {
             "colorbar": {
              "outlinewidth": 0,
              "ticks": ""
             }
            },
            "type": "histogram"
           }
          ],
          "histogram2d": [
           {
            "colorbar": {
             "outlinewidth": 0,
             "ticks": ""
            },
            "colorscale": [
             [
              0,
              "#0d0887"
             ],
             [
              0.1111111111111111,
              "#46039f"
             ],
             [
              0.2222222222222222,
              "#7201a8"
             ],
             [
              0.3333333333333333,
              "#9c179e"
             ],
             [
              0.4444444444444444,
              "#bd3786"
             ],
             [
              0.5555555555555556,
              "#d8576b"
             ],
             [
              0.6666666666666666,
              "#ed7953"
             ],
             [
              0.7777777777777778,
              "#fb9f3a"
             ],
             [
              0.8888888888888888,
              "#fdca26"
             ],
             [
              1,
              "#f0f921"
             ]
            ],
            "type": "histogram2d"
           }
          ],
          "histogram2dcontour": [
           {
            "colorbar": {
             "outlinewidth": 0,
             "ticks": ""
            },
            "colorscale": [
             [
              0,
              "#0d0887"
             ],
             [
              0.1111111111111111,
              "#46039f"
             ],
             [
              0.2222222222222222,
              "#7201a8"
             ],
             [
              0.3333333333333333,
              "#9c179e"
             ],
             [
              0.4444444444444444,
              "#bd3786"
             ],
             [
              0.5555555555555556,
              "#d8576b"
             ],
             [
              0.6666666666666666,
              "#ed7953"
             ],
             [
              0.7777777777777778,
              "#fb9f3a"
             ],
             [
              0.8888888888888888,
              "#fdca26"
             ],
             [
              1,
              "#f0f921"
             ]
            ],
            "type": "histogram2dcontour"
           }
          ],
          "mesh3d": [
           {
            "colorbar": {
             "outlinewidth": 0,
             "ticks": ""
            },
            "type": "mesh3d"
           }
          ],
          "parcoords": [
           {
            "line": {
             "colorbar": {
              "outlinewidth": 0,
              "ticks": ""
             }
            },
            "type": "parcoords"
           }
          ],
          "pie": [
           {
            "automargin": true,
            "type": "pie"
           }
          ],
          "scatter": [
           {
            "marker": {
             "colorbar": {
              "outlinewidth": 0,
              "ticks": ""
             }
            },
            "type": "scatter"
           }
          ],
          "scatter3d": [
           {
            "line": {
             "colorbar": {
              "outlinewidth": 0,
              "ticks": ""
             }
            },
            "marker": {
             "colorbar": {
              "outlinewidth": 0,
              "ticks": ""
             }
            },
            "type": "scatter3d"
           }
          ],
          "scattercarpet": [
           {
            "marker": {
             "colorbar": {
              "outlinewidth": 0,
              "ticks": ""
             }
            },
            "type": "scattercarpet"
           }
          ],
          "scattergeo": [
           {
            "marker": {
             "colorbar": {
              "outlinewidth": 0,
              "ticks": ""
             }
            },
            "type": "scattergeo"
           }
          ],
          "scattergl": [
           {
            "marker": {
             "colorbar": {
              "outlinewidth": 0,
              "ticks": ""
             }
            },
            "type": "scattergl"
           }
          ],
          "scattermapbox": [
           {
            "marker": {
             "colorbar": {
              "outlinewidth": 0,
              "ticks": ""
             }
            },
            "type": "scattermapbox"
           }
          ],
          "scatterpolar": [
           {
            "marker": {
             "colorbar": {
              "outlinewidth": 0,
              "ticks": ""
             }
            },
            "type": "scatterpolar"
           }
          ],
          "scatterpolargl": [
           {
            "marker": {
             "colorbar": {
              "outlinewidth": 0,
              "ticks": ""
             }
            },
            "type": "scatterpolargl"
           }
          ],
          "scatterternary": [
           {
            "marker": {
             "colorbar": {
              "outlinewidth": 0,
              "ticks": ""
             }
            },
            "type": "scatterternary"
           }
          ],
          "surface": [
           {
            "colorbar": {
             "outlinewidth": 0,
             "ticks": ""
            },
            "colorscale": [
             [
              0,
              "#0d0887"
             ],
             [
              0.1111111111111111,
              "#46039f"
             ],
             [
              0.2222222222222222,
              "#7201a8"
             ],
             [
              0.3333333333333333,
              "#9c179e"
             ],
             [
              0.4444444444444444,
              "#bd3786"
             ],
             [
              0.5555555555555556,
              "#d8576b"
             ],
             [
              0.6666666666666666,
              "#ed7953"
             ],
             [
              0.7777777777777778,
              "#fb9f3a"
             ],
             [
              0.8888888888888888,
              "#fdca26"
             ],
             [
              1,
              "#f0f921"
             ]
            ],
            "type": "surface"
           }
          ],
          "table": [
           {
            "cells": {
             "fill": {
              "color": "#EBF0F8"
             },
             "line": {
              "color": "white"
             }
            },
            "header": {
             "fill": {
              "color": "#C8D4E3"
             },
             "line": {
              "color": "white"
             }
            },
            "type": "table"
           }
          ]
         },
         "layout": {
          "annotationdefaults": {
           "arrowcolor": "#2a3f5f",
           "arrowhead": 0,
           "arrowwidth": 1
          },
          "autotypenumbers": "strict",
          "coloraxis": {
           "colorbar": {
            "outlinewidth": 0,
            "ticks": ""
           }
          },
          "colorscale": {
           "diverging": [
            [
             0,
             "#8e0152"
            ],
            [
             0.1,
             "#c51b7d"
            ],
            [
             0.2,
             "#de77ae"
            ],
            [
             0.3,
             "#f1b6da"
            ],
            [
             0.4,
             "#fde0ef"
            ],
            [
             0.5,
             "#f7f7f7"
            ],
            [
             0.6,
             "#e6f5d0"
            ],
            [
             0.7,
             "#b8e186"
            ],
            [
             0.8,
             "#7fbc41"
            ],
            [
             0.9,
             "#4d9221"
            ],
            [
             1,
             "#276419"
            ]
           ],
           "sequential": [
            [
             0,
             "#0d0887"
            ],
            [
             0.1111111111111111,
             "#46039f"
            ],
            [
             0.2222222222222222,
             "#7201a8"
            ],
            [
             0.3333333333333333,
             "#9c179e"
            ],
            [
             0.4444444444444444,
             "#bd3786"
            ],
            [
             0.5555555555555556,
             "#d8576b"
            ],
            [
             0.6666666666666666,
             "#ed7953"
            ],
            [
             0.7777777777777778,
             "#fb9f3a"
            ],
            [
             0.8888888888888888,
             "#fdca26"
            ],
            [
             1,
             "#f0f921"
            ]
           ],
           "sequentialminus": [
            [
             0,
             "#0d0887"
            ],
            [
             0.1111111111111111,
             "#46039f"
            ],
            [
             0.2222222222222222,
             "#7201a8"
            ],
            [
             0.3333333333333333,
             "#9c179e"
            ],
            [
             0.4444444444444444,
             "#bd3786"
            ],
            [
             0.5555555555555556,
             "#d8576b"
            ],
            [
             0.6666666666666666,
             "#ed7953"
            ],
            [
             0.7777777777777778,
             "#fb9f3a"
            ],
            [
             0.8888888888888888,
             "#fdca26"
            ],
            [
             1,
             "#f0f921"
            ]
           ]
          },
          "colorway": [
           "#636efa",
           "#EF553B",
           "#00cc96",
           "#ab63fa",
           "#FFA15A",
           "#19d3f3",
           "#FF6692",
           "#B6E880",
           "#FF97FF",
           "#FECB52"
          ],
          "font": {
           "color": "#2a3f5f"
          },
          "geo": {
           "bgcolor": "white",
           "lakecolor": "white",
           "landcolor": "#E5ECF6",
           "showlakes": true,
           "showland": true,
           "subunitcolor": "white"
          },
          "hoverlabel": {
           "align": "left"
          },
          "hovermode": "closest",
          "mapbox": {
           "style": "light"
          },
          "paper_bgcolor": "white",
          "plot_bgcolor": "#E5ECF6",
          "polar": {
           "angularaxis": {
            "gridcolor": "white",
            "linecolor": "white",
            "ticks": ""
           },
           "bgcolor": "#E5ECF6",
           "radialaxis": {
            "gridcolor": "white",
            "linecolor": "white",
            "ticks": ""
           }
          },
          "scene": {
           "xaxis": {
            "backgroundcolor": "#E5ECF6",
            "gridcolor": "white",
            "gridwidth": 2,
            "linecolor": "white",
            "showbackground": true,
            "ticks": "",
            "zerolinecolor": "white"
           },
           "yaxis": {
            "backgroundcolor": "#E5ECF6",
            "gridcolor": "white",
            "gridwidth": 2,
            "linecolor": "white",
            "showbackground": true,
            "ticks": "",
            "zerolinecolor": "white"
           },
           "zaxis": {
            "backgroundcolor": "#E5ECF6",
            "gridcolor": "white",
            "gridwidth": 2,
            "linecolor": "white",
            "showbackground": true,
            "ticks": "",
            "zerolinecolor": "white"
           }
          },
          "shapedefaults": {
           "line": {
            "color": "#2a3f5f"
           }
          },
          "ternary": {
           "aaxis": {
            "gridcolor": "white",
            "linecolor": "white",
            "ticks": ""
           },
           "baxis": {
            "gridcolor": "white",
            "linecolor": "white",
            "ticks": ""
           },
           "bgcolor": "#E5ECF6",
           "caxis": {
            "gridcolor": "white",
            "linecolor": "white",
            "ticks": ""
           }
          },
          "title": {
           "x": 0.05
          },
          "xaxis": {
           "automargin": true,
           "gridcolor": "white",
           "linecolor": "white",
           "ticks": "",
           "title": {
            "standoff": 15
           },
           "zerolinecolor": "white",
           "zerolinewidth": 2
          },
          "yaxis": {
           "automargin": true,
           "gridcolor": "white",
           "linecolor": "white",
           "ticks": "",
           "title": {
            "standoff": 15
           },
           "zerolinecolor": "white",
           "zerolinewidth": 2
          }
         }
        },
        "xaxis": {
         "title": {
          "text": "Frequency (THz)"
         }
        },
        "yaxis": {
         "title": {
          "text": "D<sub>int</sub> (GHz)"
         }
        }
       }
      },
      "text/html": [
       "<div>                            <div id=\"e74f3f41-25ed-40db-848a-8df4e1745fd7\" class=\"plotly-graph-div\" style=\"height:525px; width:100%;\"></div>            <script type=\"text/javascript\">                require([\"plotly\"], function(Plotly) {                    window.PLOTLYENV=window.PLOTLYENV || {};                                    if (document.getElementById(\"e74f3f41-25ed-40db-848a-8df4e1745fd7\")) {                    Plotly.newPlot(                        \"e74f3f41-25ed-40db-848a-8df4e1745fd7\",                        [{\"mode\": \"markers\", \"name\": \"FEM Simulation\", \"type\": \"scatter\", \"x\": [118.01073070740755, 118.95815580442314, 119.98057536852245, 120.99871244705375, 122.01607017874818, 123.03255947922767, 124.0482408996932, 125.06316516055733, 126.07738010926167, 127.09093066511541, 128.10385903599717, 129.11620490678726, 130.12800561302763, 131.139296300528, 132.15011007207676, 133.16047812235936, 134.1704298620979, 135.1799930323636, 136.18919380993216, 137.1980569044915, 138.20660564842333, 139.21486207983435, 140.2228470194264, 141.2305801417753, 142.23808004148393, 143.2453642946839, 144.2524495162689, 145.25935141323777, 146.26608483446233, 147.27266381718852, 148.2791016305322, 149.28541081620978, 150.291603226728, 151.29769006122504, 152.3036818991462, 153.30958873191352, 154.31541999273946, 155.32118458471749, 156.3268909073114, 157.3325468813565, 158.33815997267448, 159.34373721439093, 160.34928522804935, 161.3548102435896, 162.36031811827252, 163.3658143546102, 164.37130411736695, 165.37679224968522, 166.38228328839216, 167.38778147852923, 168.39329078715573, 169.39881491646744, 170.40435731626383, 171.40992119580696, 172.4155095351011, 173.4211250956282, 174.4267704305648, 175.43244789451043, 176.43815965275493, 177.44390769010673, 178.44969381930147, 179.4555196890235, 180.46138679154663, 181.46729647002326, 182.4732499254351, 183.47924822322562, 184.48529229962386, 185.49138296768388, 186.4975209230463, 187.50370674943812, 188.50994092392477, 189.51622382192542, 190.52255572200167, 191.5289368104301, 192.5353671855765, 193.5418468620663, 194.54837577477878, 195.55495378265508, 196.56158067234753, 197.56825616169638, 198.57497990306697, 199.58175148652947, 200.58857044290315, 201.5954362466701, 202.60234831875812, 203.60930602920354, 204.61630869970088, 205.6233556060372, 206.63044598042563, 207.63757901373552, 208.64475385762856, 209.6519696265982, 210.65922539992945, 211.6665202235654, 212.67385311190026, 213.68122304949426, 214.6886289927086, 215.69606987129322, 216.70354458986625, 217.71105202937133, 218.71859104844847, 219.72616048475612, 220.7337591562348, 221.7413858623146, 222.7490393850757, 223.7567184903574, 224.76442192881672, 225.77214843695074, 226.77989673806576, 227.7876655431452, 228.79545355198854, 229.8032594537152, 230.811081927809, 231.81891964484234, 232.82677126722896, 233.83463544994115, 234.84251084119725, 235.85039608311868, 236.85828981235946, 237.86619066070972, 238.87409725566903, 239.88200822100023, 240.88992217725755, 241.89783774228752, 242.9057535317149, 243.91366815940353, 244.9215802378943, 245.92948837883168, 246.93739119336263, 247.94528729252335, 248.95317528760734, 249.96105379051428, 250.96892141408952, 251.97677677243658, 252.984618481235, 253.9924451580155, 255.00025542245123, 256.0080478966143, 257.01582120523284, 258.02357397591186, 259.0313048394242, 260.0390124298404, 261.04669538479004, 262.0543523456461, 263.06198195771304, 264.0695828703982, 265.07715373738756, 266.08469321679644, 267.09219997132845, 268.09967266841096, 269.1071099803345, 270.11451058437825, 271.12187316292807, 272.12919640359314, 273.13647899931004, 274.14371964843974, 275.15091705486896, 276.15806992809166, 277.16517698328926, 278.172236941412, 279.1792485292487, 280.18621047949415, 281.19312153079755, 282.1999804278406, 283.2067859213708, 284.2135367682584, 285.2202317315341, 286.22686958043107, 287.233449090419, 288.2399690432353, 289.2464282269153, 290.2528254358096, 291.2591594706152, 292.26542913838193, 293.271633252539, 294.27777063289454, 295.2838401056523, 296.2898405034163, 297.2957706651914, 298.30162943638857, 299.3074156688193, 300.31312822069316, 301.31876595661356, 302.32432774756523, 303.3298124709079, 304.335219010364, 305.34054625600095, 306.3457931042165, 307.35095845772395, 308.3560412255302, 309.36104032291513, 310.3659546714075, 311.37078319876423, 312.37552483894507, 313.38017853207975, 314.3847432244498, 315.38921786845214, 316.3936014225716, 317.39789285134754, 318.402091125345, 319.4061952211201, 320.4102041211821, 321.4141168139656, 322.41793229378527, 323.4216495608097, 324.42526762101176, 325.42878548613555, 326.43220217367053, 327.4355167067882, 328.4387281143158, 329.4418354306967, 330.4448376959434, 331.4477339556078, 332.45052326071385, 333.4532046677371, 334.45577723856394, 335.45824004043095, 336.4605921458926, 337.4628326327765, 338.46496058413675, 339.4669750882103, 340.46887523837694, 341.4706601330983, 342.47232887591247, 343.4738805753329, 344.47531434484364, 345.4766293028408, 346.4778245725898, 347.4788992821783, 348.47985256447083, 349.4806835570643, 350.48139140224526, 351.4819752469372, 352.48243424266207, 353.48276754549187, 354.4829743160045, 355.48305371923556, 356.48300492464125, 357.4828271060449, 358.48251944159534, 359.4820811137236, 360.4815113090997, 361.48080921857735, 362.4799740371717, 363.47900496399114, 364.47790120221225, 365.4766619590257, 366.475286445594, 367.4737738770169, 368.4721234722777, 369.47033445420743, 370.4684060494393, 371.4663374883705, 372.4641280051175, 373.4617768374732, 374.4592832268732, 375.4566464183405, 376.45386566046466, 377.45094020534566, 378.44786930855815, 379.4446522291184, 380.44128822943736, 381.43777657527977, 382.43411653573713, 383.4303073831804, 384.4263483932226], \"y\": [-54.153329575617725, -113.08478374081584, -97.02177082230472, -85.24124347182283, -74.240062958212, -64.10731365954001, -54.78244437481968, -46.21473469150629, -38.35633716796756, -31.162332495055075, -24.5905127940959, -18.601193184840678, -13.157038125278257, -8.22290180568731, -3.7656814377595973, 0.24581766402944233, 3.841006221744434, 7.047625306610163, 9.89185169437158, 12.39839507291543, 14.590587823921192, 16.490468054134144, 18.118856465372605, 19.495427633481683, 20.63877616128433, 21.566478180447998, 22.295148584616797, 22.840494372677455, 23.21736441643046, 23.439795961804908, 23.521058124671022, 23.47369262143496, 23.309551958844356, 23.039835275044894, 22.675122015413425, 22.225403601924775, 21.70011324705037, 21.10815404428741, 20.457925457370415, 19.757348321642755, 19.01388845881056, 18.234578994464524, 17.42604147205212, 16.594505831518024, 15.74582933360273, 14.885514490437386, 14.018726066395232, 13.150307203849495, 12.28479472999949, 11.426433686264662, 10.579191131951939, 9.746769262840653, 8.932617878425852, 8.139946240732158, 7.3717343540821565, 6.630743700355933, 5.919527456121697, 5.240440220961781, 4.595647284627298, 3.9871334556015774, 3.4167114695343184, 2.8860300107700945, 2.3965813530588598, 1.9497086488523425, 1.5466128799585075, 1.1883594896474041, 0.8758847070707131, 0.6100015862369109, 0.3914057678578839, 0.22068097886840962, 0.09830428473822281, 0.02465110456363833, 0.0, 0.02453724762404074, 0.09836121318812724, 0.22148652219596618, 0.3938480538561125, 0.6153047493414474, 0.8856432609732914, 1.2045814290009247, 1.5717716187624342, 1.9868039004811098, 2.4492090933424633, 2.958461679462083, 3.5139825866700223, 4.115141851252578, 4.761261167773632, 5.4516163233097155, 6.185439530940001, 6.961921660024301, 7.780214372221567, 8.639432161060482, 9.538654311534694, 10.476926766671996, 11.453263920693269, 12.46665033390701, 13.51604236738974, 14.600369771193186, 15.718537163450744, 16.869425487719504, 18.051893384020502, 19.264778510859273, 20.506898808717125, 21.77705370767909, 23.074025287991756, 24.396579388895734, 25.74346666740396, 27.11342362059366, 28.505173554780352, 29.917427453469383, 31.34888511599013, 32.79823566181826, 34.26415857479128, 35.74532442730336, 37.24039563310816, 38.748027164471054, 40.26686723979803, 41.79555798042836, 43.332736040370946, 44.877033209819785, 46.427076988310816, 47.98149113874021, 49.53889621524153, 51.097910064364676, 52.657148310936094, 54.21522481873281, 55.77075212871552, 57.32234188528537, 58.86860523540469, 60.408153215303784, 61.939597118486915, 63.46154884459995, 64.9726212390272, 66.47142840531262, 67.95658602291259, 69.42671162257382, 70.88042487750725, 72.31634785974695, 73.73310529750361, 75.1293247957135, 76.50363712721247, 77.85467636260634, 79.18108013144426, 80.48148980671894, 81.75455069282872, 82.99891219722616, 84.21322800572727, 85.39615623374834, 86.54635958498359, 87.66250548660717, 88.74326622936938, 89.78731909237409, 90.79334646133091, 91.7600359456136, 92.68608048167103, 93.57017843058917, 94.41103367895546, 95.20735572086353, 95.95785973764968, 96.66126667957924, 97.31630333551665, 97.9217024001286, 98.47620252270478, 98.97854838494497, 99.42749073430188, 99.82178644107805, 100.1601985359864, 100.44149625212735, 100.66445505924693, 100.82785669477197, 100.93048919393017, 100.97114690741637, 100.9486305322287, 100.8617471181543, 100.70931009438777, 100.49013926913351, 100.20306084603833, 99.84690742928441, 99.42051802354959, 98.92273803989606, 98.352419289802, 97.70841998285393, 96.98960472244943, 96.19484449330355, 95.3230166551224, 94.37300493050729, 93.34369938657242, 92.23399642129735, 91.04279874792971, 89.76901537338007, 88.41156157745208, 86.96935888904885, 85.44133506500542, 83.82642406498198, 82.12356601887689, 80.33170720808626, 78.44980002961442, 76.4768029682219, 74.41168056344048, 72.2534033800898, 70.00094797429772, 67.65329685558173, 65.2094384582408, 62.66836709703072, 60.0290829407444, 57.29059196191894, 54.451905904924985, 51.512042259069595, 48.47002419592898, 45.32488054272984, 42.075645742799324, 38.721359808773535, 35.26106829227846, 31.6938222175624, 28.018678059970235, 24.234697705955753, 20.340948392204893, 16.336502672969182, 12.220438376099192, 7.991838555536777, 3.6497914483034597, -0.8066095659249263, -5.378266025336906, -10.066074391953672, -14.870926152413954, -19.79370782247014, -24.835301006074552, -29.99658243791361, -35.27842403019938, -40.68169291854599, -46.207251505816814, -51.85595750573292, -57.62866399451884, -63.52621945049242, -69.5494678015327, -75.69924846972296, -81.97639641945517, -88.38174219459287, -94.9161119717083, -101.58032760209942, -108.37520665464234, -115.30156245943957, -122.36020416252954, -129.55193674900386, -136.87756111040937, -144.3378740700539, -151.93366843751676, -159.66573304994938, -167.53485280780578, -175.54180872792062, -183.6873779789211, -191.97233392793908, -200.39744617745544, -208.9634806112958, -217.67119943640864, -226.52136121732244, -235.51472093081543, -244.65202998740142, -253.93403628719318, -263.36148425555325, -272.93511487619804, -282.6556657379895, -292.5238710763949, -302.540461799827, -312.7061655373906, -323.021706676045]}, {\"mode\": \"lines\", \"name\": \"LLE simulation\", \"type\": \"scatter\", \"x\": [116.05217514732824, 117.05853164158059, 118.06488813583293, 119.07124463008527, 120.07760112433762, 121.08395761858996, 122.09031411284231, 123.09667060709465, 124.103027101347, 125.10938359559933, 126.11574008985168, 127.12209658410403, 128.12845307835636, 129.1348095726087, 130.14116606686105, 131.1475225611134, 132.15387905536573, 133.16023554961808, 134.16659204387042, 135.17294853812277, 136.1793050323751, 137.18566152662746, 138.1920180208798, 139.19837451513214, 140.2047310093845, 141.21108750363683, 142.21744399788918, 143.22380049214152, 144.23015698639387, 145.2365134806462, 146.24286997489855, 147.2492264691509, 148.25558296340324, 149.2619394576556, 150.26829595190793, 151.27465244616027, 152.28100894041262, 153.28736543466496, 154.2937219289173, 155.30007842316965, 156.306434917422, 157.31279141167434, 158.31914790592668, 159.32550440017903, 160.33186089443137, 161.33821738868372, 162.34457388293606, 163.3509303771884, 164.35728687144075, 165.3636433656931, 166.36999985994544, 167.37635635419778, 168.38271284845013, 169.38906934270247, 170.39542583695481, 171.40178233120716, 172.4081388254595, 173.41449531971185, 174.4208518139642, 175.42720830821654, 176.43356480246888, 177.43992129672122, 178.44627779097357, 179.4526342852259, 180.45899077947826, 181.4653472737306, 182.47170376798294, 183.4780602622353, 184.48441675648763, 185.49077325073998, 186.49712974499232, 187.50348623924467, 188.509842733497, 189.51619922774935, 190.52255572200167, 191.528912216254, 192.53526871050636, 193.5416252047587, 194.54798169901105, 195.5543381932634, 196.56069468751573, 197.56705118176808, 198.57340767602042, 199.57976417027277, 200.5861206645251, 201.59247715877746, 202.5988336530298, 203.60519014728212, 204.6115466415345, 205.61790313578683, 206.62425963003915, 207.63061612429152, 208.63697261854387, 209.64332911279618, 210.64968560704855, 211.6560421013009, 212.6623985955532, 213.6687550898056, 214.67511158405793, 215.68146807831025, 216.68782457256262, 217.69418106681496, 218.70053756106728, 219.70689405531965, 220.713250549572, 221.7196070438243, 222.72596353807668, 223.73232003232903, 224.7386765265814, 225.74503302083372, 226.75138951508606, 227.75774600933838, 228.76410250359075, 229.7704589978431, 230.77681549209547, 231.78317198634778, 232.78952848060013, 233.79588497485244, 234.8022414691048, 235.80859796335716, 236.81495445760953, 237.82131095186185, 238.8276674461142, 239.8340239403665, 240.84038043461888, 241.84673692887122, 242.8530934231236, 243.8594499173759, 244.86580641162826, 245.87216290588054, 246.87851940013294, 247.8848758943853, 248.89123238863766, 249.89758888288998, 250.90394537714232, 251.9103018713946, 252.91665836564698, 253.92301485989933, 254.92937135415173, 255.935727848404, 256.94208434265636, 257.9484408369087, 258.95479733116105, 259.9611538254134, 260.9675103196658, 261.9738668139181, 262.9802233081704, 263.98657980242274, 264.9929362966751, 265.9992927909275, 267.00564928517986, 268.0120057794322, 269.0183622736845, 270.02471876793686, 271.0310752621892, 272.03743175644155, 273.0437882506939, 274.05014474494624, 275.05650123919855, 276.06285773345087, 277.06921422770324, 278.0755707219556, 279.0819272162079, 280.0882837104603, 281.0946402047126, 282.10099669896493, 283.1073531932173, 284.1137096874696, 285.120066181722, 286.12642267597437, 287.1327791702267, 288.139135664479, 289.1454921587314, 290.15184865298374, 291.15820514723606, 292.16456164148843, 293.17091813574075, 294.17727462999306, 295.18363112424544, 296.1899876184978, 297.1963441127501, 298.2027006070025, 299.2090571012548, 300.21541359550713, 301.2217700897595, 302.2281265840119, 303.2344830782642, 304.24083957251656, 305.2471960667689, 306.25355256102125, 307.25990905527357, 308.26626554952594, 309.27262204377826, 310.27897853803063, 311.28533503228294, 312.2916915265353, 313.29804802078763, 314.30440451504, 315.3107610092923, 316.31711750354464, 317.323473997797, 318.3298304920494, 319.3361869863017, 320.34254348055407, 321.3488999748064, 322.3552564690587, 323.3616129633111, 324.36796945756345, 325.37432595181576, 326.38068244606814, 327.38703894032045, 328.39339543457277, 329.39975192882514, 330.40610842307746, 331.4124649173298, 332.41882141158214, 333.4251779058345, 334.43153440008683, 335.4378908943392, 336.4442473885915, 337.4506038828439, 338.45696037709627, 339.4633168713486, 340.46967336560084, 341.47602985985327, 342.48238635410553, 343.48874284835796, 344.49509934261033, 345.5014558368626, 346.5078123311149, 347.5141688253673, 348.5205253196196, 349.5268818138721, 350.5332383081244, 351.53959480237666, 352.54595129662897, 353.55230779088134, 354.55866428513366, 355.56502077938603, 356.57137727363835, 357.5777337678907, 358.58409026214304, 359.5904467563954, 360.5968032506477, 361.60315974490004], \"y\": [-231.73466509186733, -175.96463795686287, -137.9068751460905, -113.08478374081585, -97.02177082230473, -85.24124347182284, -74.24006295821198, -64.10731365954001, -54.782444374819676, -46.21473469150629, -38.35633716796756, -31.162332495055075, -24.590512794095908, -18.601193184840685, -13.157038125278257, -8.222901805687313, -3.7656814377595964, 0.24581766402944227, 3.841006221744434, 7.047625306610163, 9.891851694371578, 12.39839507291543, 14.590587823921188, 16.490468054134144, 18.118856465372605, 19.495427633481683, 20.63877616128433, 21.566478180447998, 22.295148584616793, 22.84049437267745, 23.217364416430463, 23.439795961804904, 23.52105812467102, 23.473692621434953, 23.309551958844356, 23.039835275044886, 22.67512201541343, 22.22540360192477, 21.70011324705037, 21.108154044287406, 20.45792545737042, 19.757348321642755, 19.01388845881056, 18.234578994464524, 17.426041472052116, 16.594505831518024, 15.745829333602728, 14.885514490437386, 14.018726066395232, 13.150307203849495, 12.28479472999949, 11.426433686264662, 10.579191131951942, 9.746769262840653, 8.932617878425852, 8.139946240732158, 7.371734354082157, 6.630743700355934, 5.919527456121697, 5.240440220961781, 4.595647284627297, 3.9871334556015774, 3.4167114695343184, 2.8860300107700945, 2.3965813530588598, 1.9497086488523425, 1.5466128799585075, 1.1883594896474043, 0.8758847070707131, 0.6100015862369109, 0.3914057678578839, 0.22068097886840954, 0.09830428473822281, 0.02465110456363833, -5.928983654524958e-19, 0.024537247624040737, 0.09836121318812724, 0.22148652219596615, 0.3938480538561124, 0.6153047493414475, 0.8856432609732913, 1.2045814290009247, 1.5717716187624342, 1.98680390048111, 2.4492090933424637, 2.9584616794620824, 3.5139825866700223, 4.115141851252577, 4.7612611677736325, 5.451616323309715, 6.185439530940001, 6.961921660024302, 7.780214372221566, 8.639432161060482, 9.538654311534694, 10.476926766671992, 11.453263920693269, 12.46665033390701, 13.51604236738974, 14.600369771193186, 15.718537163450744, 16.869425487719504, 18.051893384020506, 19.264778510859273, 20.506898808717125, 21.777053707679087, 23.074025287991756, 24.396579388895734, 25.74346666740396, 27.11342362059366, 28.505173554780352, 29.917427453469394, 31.348885115990136, 32.79823566181827, 34.26415857479128, 35.74532442730336, 37.24039563310816, 38.74802716447105, 40.266867239798025, 41.79555798042836, 43.332736040370946, 44.877033209819785, 46.427076988310816, 47.98149113874021, 49.53889621524154, 51.097910064364676, 52.657148310936094, 54.215224818732814, 55.77075212871552, 57.32234188528537, 58.868605235404694, 60.408153215303784, 61.93959711848693, 63.46154884459995, 64.9726212390272, 66.47142840531262, 67.95658602291259, 69.4267116225738, 70.88042487750724, 72.31634785974695, 73.73310529750361, 75.1293247957135, 76.50363712721246, 77.85467636260634, 79.18108013144426, 80.48148980671894, 81.75455069282872, 82.99891219722616, 84.21322800572727, 85.39615623374834, 86.54635958498358, 87.66250548660717, 88.74326622936938, 89.78731909237409, 90.79334646133091, 91.76003594561358, 92.68608048167103, 93.57017843058917, 94.41103367895546, 95.20735572086353, 95.95785973764968, 96.66126667957924, 97.31630333551665, 97.9217024001286, 98.4762025227048, 98.97854838494499, 99.42749073430187, 99.82178644107805, 100.1601985359864, 100.44149625212732, 100.66445505924693, 100.82785669477198, 100.93048919393017, 100.97114690741637, 100.94863053222869, 100.86174711815431, 100.70931009438777, 100.49013926913351, 100.20306084603833, 99.84690742928443, 99.42051802354956, 98.92273803989607, 98.352419289802, 97.70841998285393, 96.98960472244943, 96.19484449330355, 95.32301665512239, 94.37300493050729, 93.34369938657242, 92.23399642129736, 91.04279874792971, 89.76901537338007, 88.41156157745208, 86.96935888904882, 85.44133506500543, 83.82642406498198, 82.12356601887689, 80.33170720808624, 78.44980002961442, 76.4768029682219, 74.41168056344048, 72.25340338008978, 70.00094797429772, 67.65329685558173, 65.20943845824078, 62.66836709703072, 60.0290829407444, 57.29059196191894, 54.451905904924985, 51.51204225906959, 48.47002419592898, 45.32488054272984, 42.07564574279932, 38.721359808773535, 35.26106829227846, 31.6938222175624, 28.018678059970235, 24.234697705955753, 20.340948392204897, 16.336502672969182, 12.220438376099194, 7.991838555536777, 3.6497914483034606, -0.8066095659249263, -5.378266025336905, -10.066074391953675, -14.870926152413954, -19.793707822470136, -24.835301006074555, -29.99658243791361, -35.27842403019938, -40.681692918546005, -46.207251505816814, -51.85595750573292, -57.62866399451885, -63.52621945049241, -69.54946780153271, -75.69924846972296, -81.97639641945517, -88.38174219459287, -94.91611197170832, -101.58032760209942, -108.37520665464234, -115.30156245943957, -122.36020416252957]}, {\"line\": {\"dash\": \"dash\", \"width\": 2}, \"name\": \"Fit\", \"type\": \"scatter\", \"x\": [118.95815580442314, 119.98057536852245, 120.99871244705375, 122.01607017874818, 123.03255947922767, 124.0482408996932, 125.06316516055733, 126.07738010926167, 127.09093066511541, 128.10385903599717, 129.11620490678726, 130.12800561302763, 131.139296300528, 132.15011007207676, 133.16047812235936, 134.1704298620979, 135.1799930323636, 136.18919380993216, 137.1980569044915, 138.20660564842333, 139.21486207983435, 140.2228470194264, 141.2305801417753, 142.23808004148393, 143.2453642946839, 144.2524495162689, 145.25935141323777, 146.26608483446233, 147.27266381718852, 148.2791016305322, 149.28541081620978, 150.291603226728, 151.29769006122504, 152.3036818991462, 153.30958873191352, 154.31541999273946, 155.32118458471749, 156.3268909073114, 157.3325468813565, 158.33815997267448, 159.34373721439093, 160.34928522804935, 161.3548102435896, 162.36031811827252, 163.3658143546102, 164.37130411736695, 165.37679224968522, 166.38228328839216, 167.38778147852923, 168.39329078715573, 169.39881491646744, 170.40435731626383, 171.40992119580696, 172.4155095351011, 173.4211250956282, 174.4267704305648, 175.43244789451043, 176.43815965275493, 177.44390769010673, 178.44969381930147, 179.4555196890235, 180.46138679154663, 181.46729647002326, 182.4732499254351, 183.47924822322562, 184.48529229962386, 185.49138296768388, 186.4975209230463, 187.50370674943812, 188.50994092392477, 189.51622382192542, 190.52255572200167, 191.5289368104301, 192.5353671855765, 193.5418468620663, 194.54837577477878, 195.55495378265508, 196.56158067234753, 197.56825616169638, 198.57497990306697, 199.58175148652947, 200.58857044290315, 201.5954362466701, 202.60234831875812, 203.60930602920354, 204.61630869970088, 205.6233556060372, 206.63044598042563, 207.63757901373552, 208.64475385762856, 209.6519696265982, 210.65922539992945, 211.6665202235654, 212.67385311190026, 213.68122304949426, 214.6886289927086, 215.69606987129322, 216.70354458986625, 217.71105202937133, 218.71859104844847, 219.72616048475612, 220.7337591562348, 221.7413858623146, 222.7490393850757, 223.7567184903574, 224.76442192881672, 225.77214843695074, 226.77989673806576, 227.7876655431452, 228.79545355198854, 229.8032594537152, 230.811081927809, 231.81891964484234, 232.82677126722896, 233.83463544994115, 234.84251084119725, 235.85039608311868, 236.85828981235946, 237.86619066070972, 238.87409725566903, 239.88200822100023, 240.88992217725755, 241.89783774228752, 242.9057535317149, 243.91366815940353, 244.9215802378943, 245.92948837883168, 246.93739119336263, 247.94528729252335, 248.95317528760734, 249.96105379051428, 250.96892141408952, 251.97677677243658, 252.984618481235, 253.9924451580155, 255.00025542245123, 256.0080478966143, 257.01582120523284, 258.02357397591186, 259.0313048394242, 260.0390124298404, 261.04669538479004, 262.0543523456461, 263.06198195771304, 264.0695828703982, 265.07715373738756, 266.08469321679644, 267.09219997132845, 268.09967266841096, 269.1071099803345, 270.11451058437825, 271.12187316292807, 272.12919640359314, 273.13647899931004, 274.14371964843974, 275.15091705486896, 276.15806992809166, 277.16517698328926, 278.172236941412, 279.1792485292487, 280.18621047949415, 281.19312153079755, 282.1999804278406, 283.2067859213708, 284.2135367682584, 285.2202317315341, 286.22686958043107, 287.233449090419, 288.2399690432353, 289.2464282269153, 290.2528254358096, 291.2591594706152, 292.26542913838193, 293.271633252539, 294.27777063289454, 295.2838401056523, 296.2898405034163, 297.2957706651914, 298.30162943638857, 299.3074156688193, 300.31312822069316, 301.31876595661356, 302.32432774756523, 303.3298124709079, 304.335219010364, 305.34054625600095, 306.3457931042165, 307.35095845772395, 308.3560412255302, 309.36104032291513, 310.3659546714075, 311.37078319876423, 312.37552483894507, 313.38017853207975, 314.3847432244498, 315.38921786845214, 316.3936014225716, 317.39789285134754, 318.402091125345, 319.4061952211201, 320.4102041211821, 321.4141168139656, 322.41793229378527, 323.4216495608097, 324.42526762101176, 325.42878548613555, 326.43220217367053, 327.4355167067882, 328.4387281143158, 329.4418354306967, 330.4448376959434, 331.4477339556078, 332.45052326071385, 333.4532046677371, 334.45577723856394, 335.45824004043095, 336.4605921458926, 337.4628326327765, 338.46496058413675, 339.4669750882103, 340.46887523837694, 341.4706601330983, 342.47232887591247, 343.4738805753329, 344.47531434484364, 345.4766293028408, 346.4778245725898, 347.4788992821783, 348.47985256447083, 349.4806835570643, 350.48139140224526, 351.4819752469372, 352.48243424266207, 353.48276754549187, 354.4829743160045, 355.48305371923556, 356.48300492464125, 357.4828271060449, 358.48251944159534, 359.4820811137236, 360.4815113090997, 361.48080921857735, 362.4799740371717, 363.47900496399114, 364.47790120221225, 365.4766619590257, 366.475286445594, 367.4737738770169, 368.4721234722777, 369.47033445420743, 370.4684060494393, 371.4663374883705], \"y\": [-113.08478374081585, -97.02177082230473, -85.24124347182284, -74.24006295821198, -64.10731365954001, -54.782444374819676, -46.21473469150629, -38.35633716796756, -31.162332495055075, -24.590512794095908, -18.601193184840685, -13.157038125278257, -8.222901805687313, -3.7656814377595964, 0.24581766402944227, 3.841006221744434, 7.047625306610163, 9.891851694371578, 12.39839507291543, 14.590587823921188, 16.490468054134144, 18.118856465372605, 19.495427633481683, 20.63877616128433, 21.566478180447998, 22.295148584616793, 22.84049437267745, 23.217364416430463, 23.439795961804904, 23.52105812467102, 23.473692621434953, 23.309551958844356, 23.039835275044886, 22.67512201541343, 22.22540360192477, 21.70011324705037, 21.108154044287406, 20.45792545737042, 19.757348321642755, 19.01388845881056, 18.234578994464524, 17.426041472052116, 16.594505831518024, 15.745829333602728, 14.885514490437386, 14.018726066395232, 13.150307203849495, 12.28479472999949, 11.426433686264662, 10.579191131951942, 9.746769262840653, 8.932617878425852, 8.139946240732158, 7.371734354082157, 6.630743700355934, 5.919527456121697, 5.240440220961781, 4.595647284627297, 3.9871334556015774, 3.4167114695343184, 2.8860300107700945, 2.3965813530588598, 1.9497086488523425, 1.5466128799585075, 1.1883594896474043, 0.8758847070707131, 0.6100015862369109, 0.3914057678578839, 0.22068097886840954, 0.09830428473822281, 0.02465110456363833, -5.928983654524958e-19, 0.024537247624040737, 0.09836121318812724, 0.22148652219596615, 0.3938480538561124, 0.6153047493414475, 0.8856432609732913, 1.2045814290009247, 1.5717716187624342, 1.98680390048111, 2.4492090933424637, 2.9584616794620824, 3.5139825866700223, 4.115141851252577, 4.7612611677736325, 5.451616323309715, 6.185439530940001, 6.961921660024302, 7.780214372221566, 8.639432161060482, 9.538654311534694, 10.476926766671992, 11.453263920693269, 12.46665033390701, 13.51604236738974, 14.600369771193186, 15.718537163450744, 16.869425487719504, 18.051893384020506, 19.264778510859273, 20.506898808717125, 21.777053707679087, 23.074025287991756, 24.396579388895734, 25.74346666740396, 27.11342362059366, 28.505173554780352, 29.917427453469394, 31.348885115990136, 32.79823566181827, 34.26415857479128, 35.74532442730336, 37.24039563310816, 38.74802716447105, 40.266867239798025, 41.79555798042836, 43.332736040370946, 44.877033209819785, 46.427076988310816, 47.98149113874021, 49.53889621524154, 51.097910064364676, 52.657148310936094, 54.215224818732814, 55.77075212871552, 57.32234188528537, 58.868605235404694, 60.408153215303784, 61.93959711848693, 63.46154884459995, 64.9726212390272, 66.47142840531262, 67.95658602291259, 69.4267116225738, 70.88042487750724, 72.31634785974695, 73.73310529750361, 75.1293247957135, 76.50363712721246, 77.85467636260634, 79.18108013144426, 80.48148980671894, 81.75455069282872, 82.99891219722616, 84.21322800572727, 85.39615623374834, 86.54635958498358, 87.66250548660717, 88.74326622936938, 89.78731909237409, 90.79334646133091, 91.76003594561358, 92.68608048167103, 93.57017843058917, 94.41103367895546, 95.20735572086353, 95.95785973764968, 96.66126667957924, 97.31630333551665, 97.9217024001286, 98.4762025227048, 98.97854838494499, 99.42749073430187, 99.82178644107805, 100.1601985359864, 100.44149625212732, 100.66445505924693, 100.82785669477198, 100.93048919393017, 100.97114690741637, 100.94863053222869, 100.86174711815431, 100.70931009438777, 100.49013926913351, 100.20306084603833, 99.84690742928443, 99.42051802354956, 98.92273803989607, 98.352419289802, 97.70841998285393, 96.98960472244943, 96.19484449330355, 95.32301665512239, 94.37300493050729, 93.34369938657242, 92.23399642129736, 91.04279874792971, 89.76901537338007, 88.41156157745208, 86.96935888904882, 85.44133506500543, 83.82642406498198, 82.12356601887689, 80.33170720808624, 78.44980002961442, 76.4768029682219, 74.41168056344048, 72.25340338008978, 70.00094797429772, 67.65329685558173, 65.20943845824078, 62.66836709703072, 60.0290829407444, 57.29059196191894, 54.451905904924985, 51.51204225906959, 48.47002419592898, 45.32488054272984, 42.07564574279932, 38.721359808773535, 35.26106829227846, 31.6938222175624, 28.018678059970235, 24.234697705955753, 20.340948392204897, 16.336502672969182, 12.220438376099194, 7.991838555536777, 3.6497914483034606, -0.8066095659249263, -5.378266025336905, -10.066074391953675, -14.870926152413954, -19.793707822470136, -24.835301006074555, -29.99658243791361, -35.27842403019938, -40.681692918546005, -46.207251505816814, -51.85595750573292, -57.62866399451885, -63.52621945049241, -69.54946780153271, -75.69924846972296, -81.97639641945517, -88.38174219459287, -94.91611197170832, -101.58032760209942, -108.37520665464234, -115.30156245943957, -122.36020416252957, -129.55193674900386, -136.87756111040937, -144.3378740700539, -151.93366843751676, -159.6657330499494, -167.53485280780575, -175.54180872792068, -183.6873779789211, -191.97233392793908, -200.39744617745544]}],                        {\"template\": {\"data\": {\"bar\": [{\"error_x\": {\"color\": \"#2a3f5f\"}, \"error_y\": {\"color\": \"#2a3f5f\"}, \"marker\": {\"line\": {\"color\": \"#E5ECF6\", \"width\": 0.5}}, \"type\": \"bar\"}], \"barpolar\": [{\"marker\": {\"line\": {\"color\": \"#E5ECF6\", \"width\": 0.5}}, \"type\": \"barpolar\"}], \"carpet\": [{\"aaxis\": {\"endlinecolor\": \"#2a3f5f\", \"gridcolor\": \"white\", \"linecolor\": \"white\", \"minorgridcolor\": \"white\", \"startlinecolor\": \"#2a3f5f\"}, \"baxis\": {\"endlinecolor\": \"#2a3f5f\", \"gridcolor\": \"white\", \"linecolor\": \"white\", \"minorgridcolor\": \"white\", \"startlinecolor\": \"#2a3f5f\"}, \"type\": \"carpet\"}], \"choropleth\": [{\"colorbar\": {\"outlinewidth\": 0, \"ticks\": \"\"}, \"type\": \"choropleth\"}], \"contour\": [{\"colorbar\": {\"outlinewidth\": 0, \"ticks\": \"\"}, \"colorscale\": [[0.0, \"#0d0887\"], [0.1111111111111111, \"#46039f\"], [0.2222222222222222, \"#7201a8\"], [0.3333333333333333, \"#9c179e\"], [0.4444444444444444, \"#bd3786\"], [0.5555555555555556, \"#d8576b\"], [0.6666666666666666, \"#ed7953\"], [0.7777777777777778, \"#fb9f3a\"], [0.8888888888888888, \"#fdca26\"], [1.0, \"#f0f921\"]], \"type\": \"contour\"}], \"contourcarpet\": [{\"colorbar\": {\"outlinewidth\": 0, \"ticks\": \"\"}, \"type\": \"contourcarpet\"}], \"heatmap\": [{\"colorbar\": {\"outlinewidth\": 0, \"ticks\": \"\"}, \"colorscale\": [[0.0, \"#0d0887\"], [0.1111111111111111, \"#46039f\"], [0.2222222222222222, \"#7201a8\"], [0.3333333333333333, \"#9c179e\"], [0.4444444444444444, \"#bd3786\"], [0.5555555555555556, \"#d8576b\"], [0.6666666666666666, \"#ed7953\"], [0.7777777777777778, \"#fb9f3a\"], [0.8888888888888888, \"#fdca26\"], [1.0, \"#f0f921\"]], \"type\": \"heatmap\"}], \"heatmapgl\": [{\"colorbar\": {\"outlinewidth\": 0, \"ticks\": \"\"}, \"colorscale\": [[0.0, \"#0d0887\"], [0.1111111111111111, \"#46039f\"], [0.2222222222222222, \"#7201a8\"], [0.3333333333333333, \"#9c179e\"], [0.4444444444444444, \"#bd3786\"], [0.5555555555555556, \"#d8576b\"], [0.6666666666666666, \"#ed7953\"], [0.7777777777777778, \"#fb9f3a\"], [0.8888888888888888, \"#fdca26\"], [1.0, \"#f0f921\"]], \"type\": \"heatmapgl\"}], \"histogram\": [{\"marker\": {\"colorbar\": {\"outlinewidth\": 0, \"ticks\": \"\"}}, \"type\": \"histogram\"}], \"histogram2d\": [{\"colorbar\": {\"outlinewidth\": 0, \"ticks\": \"\"}, \"colorscale\": [[0.0, \"#0d0887\"], [0.1111111111111111, \"#46039f\"], [0.2222222222222222, \"#7201a8\"], [0.3333333333333333, \"#9c179e\"], [0.4444444444444444, \"#bd3786\"], [0.5555555555555556, \"#d8576b\"], [0.6666666666666666, \"#ed7953\"], [0.7777777777777778, \"#fb9f3a\"], [0.8888888888888888, \"#fdca26\"], [1.0, \"#f0f921\"]], \"type\": \"histogram2d\"}], \"histogram2dcontour\": [{\"colorbar\": {\"outlinewidth\": 0, \"ticks\": \"\"}, \"colorscale\": [[0.0, \"#0d0887\"], [0.1111111111111111, \"#46039f\"], [0.2222222222222222, \"#7201a8\"], [0.3333333333333333, \"#9c179e\"], [0.4444444444444444, \"#bd3786\"], [0.5555555555555556, \"#d8576b\"], [0.6666666666666666, \"#ed7953\"], [0.7777777777777778, \"#fb9f3a\"], [0.8888888888888888, \"#fdca26\"], [1.0, \"#f0f921\"]], \"type\": \"histogram2dcontour\"}], \"mesh3d\": [{\"colorbar\": {\"outlinewidth\": 0, \"ticks\": \"\"}, \"type\": \"mesh3d\"}], \"parcoords\": [{\"line\": {\"colorbar\": {\"outlinewidth\": 0, \"ticks\": \"\"}}, \"type\": \"parcoords\"}], \"pie\": [{\"automargin\": true, \"type\": \"pie\"}], \"scatter\": [{\"marker\": {\"colorbar\": {\"outlinewidth\": 0, \"ticks\": \"\"}}, \"type\": \"scatter\"}], \"scatter3d\": [{\"line\": {\"colorbar\": {\"outlinewidth\": 0, \"ticks\": \"\"}}, \"marker\": {\"colorbar\": {\"outlinewidth\": 0, \"ticks\": \"\"}}, \"type\": \"scatter3d\"}], \"scattercarpet\": [{\"marker\": {\"colorbar\": {\"outlinewidth\": 0, \"ticks\": \"\"}}, \"type\": \"scattercarpet\"}], \"scattergeo\": [{\"marker\": {\"colorbar\": {\"outlinewidth\": 0, \"ticks\": \"\"}}, \"type\": \"scattergeo\"}], \"scattergl\": [{\"marker\": {\"colorbar\": {\"outlinewidth\": 0, \"ticks\": \"\"}}, \"type\": \"scattergl\"}], \"scattermapbox\": [{\"marker\": {\"colorbar\": {\"outlinewidth\": 0, \"ticks\": \"\"}}, \"type\": \"scattermapbox\"}], \"scatterpolar\": [{\"marker\": {\"colorbar\": {\"outlinewidth\": 0, \"ticks\": \"\"}}, \"type\": \"scatterpolar\"}], \"scatterpolargl\": [{\"marker\": {\"colorbar\": {\"outlinewidth\": 0, \"ticks\": \"\"}}, \"type\": \"scatterpolargl\"}], \"scatterternary\": [{\"marker\": {\"colorbar\": {\"outlinewidth\": 0, \"ticks\": \"\"}}, \"type\": \"scatterternary\"}], \"surface\": [{\"colorbar\": {\"outlinewidth\": 0, \"ticks\": \"\"}, \"colorscale\": [[0.0, \"#0d0887\"], [0.1111111111111111, \"#46039f\"], [0.2222222222222222, \"#7201a8\"], [0.3333333333333333, \"#9c179e\"], [0.4444444444444444, \"#bd3786\"], [0.5555555555555556, \"#d8576b\"], [0.6666666666666666, \"#ed7953\"], [0.7777777777777778, \"#fb9f3a\"], [0.8888888888888888, \"#fdca26\"], [1.0, \"#f0f921\"]], \"type\": \"surface\"}], \"table\": [{\"cells\": {\"fill\": {\"color\": \"#EBF0F8\"}, \"line\": {\"color\": \"white\"}}, \"header\": {\"fill\": {\"color\": \"#C8D4E3\"}, \"line\": {\"color\": \"white\"}}, \"type\": \"table\"}]}, \"layout\": {\"annotationdefaults\": {\"arrowcolor\": \"#2a3f5f\", \"arrowhead\": 0, \"arrowwidth\": 1}, \"autotypenumbers\": \"strict\", \"coloraxis\": {\"colorbar\": {\"outlinewidth\": 0, \"ticks\": \"\"}}, \"colorscale\": {\"diverging\": [[0, \"#8e0152\"], [0.1, \"#c51b7d\"], [0.2, \"#de77ae\"], [0.3, \"#f1b6da\"], [0.4, \"#fde0ef\"], [0.5, \"#f7f7f7\"], [0.6, \"#e6f5d0\"], [0.7, \"#b8e186\"], [0.8, \"#7fbc41\"], [0.9, \"#4d9221\"], [1, \"#276419\"]], \"sequential\": [[0.0, \"#0d0887\"], [0.1111111111111111, \"#46039f\"], [0.2222222222222222, \"#7201a8\"], [0.3333333333333333, \"#9c179e\"], [0.4444444444444444, \"#bd3786\"], [0.5555555555555556, \"#d8576b\"], [0.6666666666666666, \"#ed7953\"], [0.7777777777777778, \"#fb9f3a\"], [0.8888888888888888, \"#fdca26\"], [1.0, \"#f0f921\"]], \"sequentialminus\": [[0.0, \"#0d0887\"], [0.1111111111111111, \"#46039f\"], [0.2222222222222222, \"#7201a8\"], [0.3333333333333333, \"#9c179e\"], [0.4444444444444444, \"#bd3786\"], [0.5555555555555556, \"#d8576b\"], [0.6666666666666666, \"#ed7953\"], [0.7777777777777778, \"#fb9f3a\"], [0.8888888888888888, \"#fdca26\"], [1.0, \"#f0f921\"]]}, \"colorway\": [\"#636efa\", \"#EF553B\", \"#00cc96\", \"#ab63fa\", \"#FFA15A\", \"#19d3f3\", \"#FF6692\", \"#B6E880\", \"#FF97FF\", \"#FECB52\"], \"font\": {\"color\": \"#2a3f5f\"}, \"geo\": {\"bgcolor\": \"white\", \"lakecolor\": \"white\", \"landcolor\": \"#E5ECF6\", \"showlakes\": true, \"showland\": true, \"subunitcolor\": \"white\"}, \"hoverlabel\": {\"align\": \"left\"}, \"hovermode\": \"closest\", \"mapbox\": {\"style\": \"light\"}, \"paper_bgcolor\": \"white\", \"plot_bgcolor\": \"#E5ECF6\", \"polar\": {\"angularaxis\": {\"gridcolor\": \"white\", \"linecolor\": \"white\", \"ticks\": \"\"}, \"bgcolor\": \"#E5ECF6\", \"radialaxis\": {\"gridcolor\": \"white\", \"linecolor\": \"white\", \"ticks\": \"\"}}, \"scene\": {\"xaxis\": {\"backgroundcolor\": \"#E5ECF6\", \"gridcolor\": \"white\", \"gridwidth\": 2, \"linecolor\": \"white\", \"showbackground\": true, \"ticks\": \"\", \"zerolinecolor\": \"white\"}, \"yaxis\": {\"backgroundcolor\": \"#E5ECF6\", \"gridcolor\": \"white\", \"gridwidth\": 2, \"linecolor\": \"white\", \"showbackground\": true, \"ticks\": \"\", \"zerolinecolor\": \"white\"}, \"zaxis\": {\"backgroundcolor\": \"#E5ECF6\", \"gridcolor\": \"white\", \"gridwidth\": 2, \"linecolor\": \"white\", \"showbackground\": true, \"ticks\": \"\", \"zerolinecolor\": \"white\"}}, \"shapedefaults\": {\"line\": {\"color\": \"#2a3f5f\"}}, \"ternary\": {\"aaxis\": {\"gridcolor\": \"white\", \"linecolor\": \"white\", \"ticks\": \"\"}, \"baxis\": {\"gridcolor\": \"white\", \"linecolor\": \"white\", \"ticks\": \"\"}, \"bgcolor\": \"#E5ECF6\", \"caxis\": {\"gridcolor\": \"white\", \"linecolor\": \"white\", \"ticks\": \"\"}}, \"title\": {\"x\": 0.05}, \"xaxis\": {\"automargin\": true, \"gridcolor\": \"white\", \"linecolor\": \"white\", \"ticks\": \"\", \"title\": {\"standoff\": 15}, \"zerolinecolor\": \"white\", \"zerolinewidth\": 2}, \"yaxis\": {\"automargin\": true, \"gridcolor\": \"white\", \"linecolor\": \"white\", \"ticks\": \"\", \"title\": {\"standoff\": 15}, \"zerolinecolor\": \"white\", \"zerolinewidth\": 2}}}, \"xaxis\": {\"title\": {\"text\": \"Frequency (THz)\"}}, \"yaxis\": {\"title\": {\"text\": \"D<sub>int</sub> (GHz)\"}}},                        {\"responsive\": true}                    ).then(function(){\n",
       "                            \n",
       "var gd = document.getElementById('e74f3f41-25ed-40db-848a-8df4e1745fd7');\n",
       "var x = new MutationObserver(function (mutations, observer) {{\n",
       "        var display = window.getComputedStyle(gd).display;\n",
       "        if (!display || display === 'none') {{\n",
       "            console.log([gd, 'removed!']);\n",
       "            Plotly.purge(gd);\n",
       "            observer.disconnect();\n",
       "        }}\n",
       "}});\n",
       "\n",
       "// Listen for the removal of the full notebook cells\n",
       "var notebookContainer = gd.closest('#notebook-container');\n",
       "if (notebookContainer) {{\n",
       "    x.observe(notebookContainer, {childList: true});\n",
       "}}\n",
       "\n",
       "// Listen for the clearing of the current output cell\n",
       "var outputEl = gd.closest('.output');\n",
       "if (outputEl) {{\n",
       "    x.observe(outputEl, {childList: true});\n",
       "}}\n",
       "\n",
       "                        })                };                });            </script>        </div>"
      ]
     },
     "metadata": {},
     "output_type": "display_data"
    },
    {
     "name": "stdout",
     "output_type": "stream",
     "text": [
      "-- Dispersion Analysis --\n",
      "\tPump index: 72\n",
      "\tCenter Pump: 190.523 THz\n",
      "\tFSR: 1006.36 GHz\n",
      "\tD2: 24.58 MHz\n",
      "\n",
      "-- Solving standard LLE --\n",
      "\tSimulation Parameters\n",
      "\t\tR = 23.00 µm\n",
      "\t\tQi = 1.00 M\n",
      "\t\tQc = 1.00 M\n",
      "\t\tγ = 1.55 \n",
      "\tSimulation Parameters\n",
      "\t\tPin = 150.00 mW\n",
      "\t\tTscan = 1.00 x1e6 Round Trip\n",
      "\t\tf_pmp = 191.00 THz\n",
      "\t\tδω_init = 2.00 x2π GHz\n",
      "\t\tδω_end = -8.00 x2π GHz\n",
      "\t\tμ_sim = [-74.00,170.00] \n",
      "\t\tμ_fit = [-71.00,180.00] \n",
      "\n"
     ]
    }
   ],
   "source": [
    "# --  Setup thte Solver --\n",
    "# Initialize Solver\n",
    "solver = PyL.LLEsolver(sim=sim,res=res)\n",
    "\n",
    "#Analyze Dispersion profile\n",
    "solver.Analyze(plot=True,plottype='all')\n",
    "\n",
    "#Structure for sending to Julia\n",
    "solver.Setup()\n"
   ]
  },
  {
   "cell_type": "code",
   "execution_count": null,
   "id": "e8ad1a98",
   "metadata": {},
   "outputs": [
    {
     "name": "stdout",
     "output_type": "stream",
     "text": [
      "----------------------------------------------------------------------\n",
      "2021-05-07 01:25:27\n",
      "Launching Julia....\n",
      "Temp file can be found in: C:\\Users\\Thomas\\AppData\\Local\\Temp\\tmpe2xa1minlog.log\n",
      "Launching Julia: Done\n",
      "Computing LLE [*                                                 ] 3%"
     ]
    }
   ],
   "source": [
    "# --  Solve the Temporal LLE --\n",
    "import time\n",
    "tic = time.time()\n",
    "\n",
    "solver.SolveTemporal()\n",
    "\n",
    "toc = time.time()\n",
    "calctime = toc - tic\n",
    "print('Calculation time of %f minutes and %f seconds' % (calctime%60, calctime-(calctime%60)))\n",
    "\n",
    "# retrieve the data from Julia\n",
    "solver.RetrieveData()\n",
    "      \n",
    "solver.sol.keys() # Print the key values for the return data\n",
    "\n",
    "# Various plots\n",
    "Var3 = solver.PlotCombPower()\n",
    "ind = 570\n",
    "Var2 = solver.PlotCombSpectra(ind)\n",
    "Var1 = solver.PlotSolitonTime(ind)"
   ]
  },
  {
   "cell_type": "markdown",
   "id": "77a1f34b",
   "metadata": {},
   "source": [
    "From this we can see that the linear solution of this equation takes multiple minutes, or rather large computation time even on a programming language designed for BLAS. In the following section, we will choose an appropriate Neural Network Framework to solve our complex PDE."
   ]
  },
  {
   "cell_type": "markdown",
   "id": "0f521462",
   "metadata": {},
   "source": [
    "## Solving the LLE using Neural Network approximations\n",
    "\n",
    "**PyDEns vs DeepXDE**\n",
    "\n",
    "PyDEns is a python package built to provide a cleaner interface for the solving of a large variety of ODEs and PDEs. It uses to DeepGalerkin and a front end designed to make inputting the equations easier.\n",
    "\n",
    "DeepXDE on the other hand realies more heavily on the Tensorflow framework. However, it allows complex domain geometries without wasteful meshing. Geometeries can be constructed as constructive solid geometry (CSG) using boolean operations and basic shapes: union, difference, and intersection. This allows for more robust boundary matching and slightly finer resolution.\n",
    "\n",
    "Unfortunately after days of searching and reading, it does not look like their are any developed neural net based packages that are able to handle the LLE nonlinear Schrodinger equation without some major reworks. DeepXDE has functionality for nonlinearity and eigenvalue solutions, but the overall methodology is not well documented and out-scoped me. I am ultimately moving forward with DeepXDE because it is the most up-to-date and least deprecated of the two. \n",
    "\n",
    "**Instead I hope you except this solution to a double pendulum using basic numerical methods versus DeepXDE**\n",
    "\n",
    "### DeepXDE\n",
    "#### https://github.com/lululxvi/deepxde\n",
    "##### Lu L,Meng X,Mao Z, and Karniadakis G (2021) DeepXDE: A Deep Learning Library for Solving Differential Equations. SIAM Review 2021 63:1, 208-228\n",
    "\n",
    "```$ conda create --name p36 python=3.6```\n",
    "\n",
    "```$ conda activate p36```\n",
    "\n",
    "```$ pip install tensorflow==1.15```\n",
    "\n",
    "``` conda install -c conda-forge deepxde```\n",
    "\n",
    "**Dependencies**\n",
    "- Matplotlib\n",
    "- NumPy\n",
    "- SALib\n",
    "- scikit-learn\n",
    "- SciPy\n",
    "- TensorFlow>=2.2.0\n"
   ]
  },
  {
   "attachments": {
    "image-2.png": {
     "image/png": "[encoded data removed]"
    },
    "image.png": {
     "image/png": "[encoded data removed]"
    }
   },
   "cell_type": "markdown",
   "id": "8c4410dc",
   "metadata": {},
   "source": [
    "## Double Pendulum\n",
    "After some Lagrangian Mechanics, we arrive at the coupled ODEs\n",
    "\n",
    "\n",
    "![image.png](attachment:image.png)\n",
    "![image-2.png](attachment:image-2.png)\n",
    "\n",
    "These can only be solved numerically. Typically using the Runga-Kutte method. I implement a runge-kutte integration after the Neural Net solution and time it to compare to the neural net approach."
   ]
  },
  {
   "cell_type": "markdown",
   "id": "4df4f83a",
   "metadata": {},
   "source": [
    "### Runga-Kutte Integration"
   ]
  },
  {
   "cell_type": "code",
   "execution_count": null,
   "id": "6f2067a7",
   "metadata": {},
   "outputs": [],
   "source": [
    "\n",
    "\n",
    "import sys\n",
    "import numpy as np\n",
    "from scipy.integrate import odeint\n",
    "import numpy\n",
    "import time\n",
    "import matplotlib.pyplot as plt\n",
    "\n",
    "def DoublePen(y,t):   \n",
    "    l1=0.5; l2=1 ; m1=1 ; m2=1; g=9.81;\n",
    "    dY= np.zeros(4)\n",
    "    a = (m1+m2)*l1\n",
    "    b = m2*l2*np.cos(y[0]-y[2])\n",
    "    c = m2*l1*np.cos(y[0]-y[2])\n",
    "    d = m2*l2\n",
    "    e = -m2*l2*y[3]* y[3]*np.sin(y[0]-y[2])-g*(m1+m2)*np.sin(y[0])\n",
    "    f = m2*l1*y[1]*y[1]*np.sin(y[0]-y[2])-m2*g*np.sin(y[2])\n",
    "    dY[0] = y[1]\n",
    "    dY[2] = y[3]\n",
    "    dY[1] = (e*d-b*f)/(a*d-c*b)\n",
    "    dY[3] = (a*f-c*e)/(a*d-c*b)\n",
    "    return dY\n",
    "\n",
    "\n",
    "tmax, dt = 10, 0.01\n",
    "t = np.arange(0, tmax+dt, dt)\n",
    "\n",
    "y0 = [np.pi/2,0,np.pi/2,0] # my favorite initial conditions, straight sideways\n",
    "\n",
    "tic = time.time() #Timer on\n",
    "\n",
    "y = odeint(DoublePen, y0, t)\n",
    "\n",
    "#Display Timing\n",
    "toc = time.time()# Timer off\n",
    "calctime = toc - tic\n",
    "print('Calculation time of %f minutes or %f seconds' % ((calctime%60), calctime))\n",
    "\n",
    "# Comparing Oscillations\n",
    "plt.figure()\n",
    "plt.plot(t,y[:, 0],t,y[:, 2])\n",
    "plt.xlabel(\"time (s)\")\n",
    "plt.ylabel(\"Theta (rads)\")\n",
    "plt.title(\"Angle over time of both pendulums\")\n",
    "plt.legend([\"Inner Pendulum\",\"Outer Pendulum\"])\n",
    "plt.show()\n",
    "\n",
    "# Comparing Phase Spaces\n",
    "plt.figure()\n",
    "plt.plot(y[:, 0],y[:, 1],y[:, 2],y[:, 3])\n",
    "plt.xlabel(\"Theta\")\n",
    "plt.ylabel(\"Theta-dot\")\n",
    "plt.title(\"Phase-space\")\n",
    "plt.legend([\"Inner Pendulum\",\"Outer Pendulum\"])\n",
    "plt.show()\n",
    "\n"
   ]
  },
  {
   "cell_type": "markdown",
   "id": "5ab1eb65",
   "metadata": {},
   "source": [
    "### Neural Net Solution\n",
    "I have attempted to use both DeepXDE and PyDEns, having utilities and syntax useful in differing capacities. ultimately I went with DeepXDE because I felt it was the simpliest to turn my specific equations into something solvable. Unfortuenately  I was not able to get the model to train. I can successfully build and start it, but I am getting matrix issues I don't understand.\n",
    "\n",
    "\n"
   ]
  },
  {
   "cell_type": "code",
   "execution_count": null,
   "id": "b5f23509",
   "metadata": {},
   "outputs": [],
   "source": [
    "from __future__ import absolute_import\n",
    "from __future__ import division\n",
    "from __future__ import print_function\n",
    "\n",
    "import numpy as np\n",
    "from scipy.integrate import odeint\n",
    "import deepxde as dde\n",
    "\n",
    "\n",
    "def PenSim(theta1, theta2, w1, w2 ,t):\n",
    "    \n",
    "    theta1dot = (w1-w2*np.cos(theta1 - theta2))/(1+(np.sin(theta1-theta2)**2))\n",
    "    theta2dot = ((2*w2-w1*np.cos(theta1 - theta2))/(1+(np.sin(theta1-theta2)**2)))\n",
    "    w1dot = -2*9.8*np.sin(theta1) - ((w1*w2*np.sin(theta1 - theta2))/(1+(np.sin(theta1-theta2)**2))) + ((w1**2+2*w2**2 - w1*w2np.cos(theta1 - theta2))/(2*(1+(np.sin(theta1-theta2)**2)**2)))*np.sin(2*(theta-theta2))\n",
    "    w2dot = -9.8*np.sin(theta2) - ((w1*w2*np.sin(theta1 - theta2))/(1+(np.sin(theta1-theta2)**2))) + ((w1**2+2*w2**2 - w1*w2np.cos(theta1 - theta2))/(2*(1+(np.sin(theta1-theta2)**2)**2)))*np.sin(2*(theta-theta2))\n",
    "    \n",
    "    th1dot = dde.grad.jacobian(y, t, i=0)\n",
    "    th2dot = dde.grad.jacobian(y, t, i=1)\n",
    "    w1_dot = dde.grad.jacobian(y, t, i=2)\n",
    "    w2_dot = dde.grad.jacobian(y, t, i=3)\n",
    "\n",
    "    return [th1dot - theta1dot, th2dot - theta2dot, w1_dot - w1dot,  w2_dot - w2dot ]\n",
    "\n",
    "\n",
    "def boundary(_, on_initial):\n",
    "    return on_initial\n",
    "\n",
    "\n",
    "\n",
    "\n",
    "geom = dde.geometry.TimeDomain(0, 10)\n",
    "ic1 = dde.IC(geom, np.pi/2, boundary, component=0)\n",
    "ic2 = dde.IC(geom, np.pi/2, boundary, component=1)\n",
    "ic3 = dde.IC(geom, 0, boundary, component=2)\n",
    "ic4 = dde.IC(geom, 0, boundary, component=3)\n",
    "data = dde.data.PDE(geom, PenSim, [ic1, ic2, ic3, ic4], num_domain = 500, num_boundary= 1000)\n",
    "\n",
    "layer_size = [1] + [50] * 3 + [2]\n",
    "activation = \"tanh\"\n",
    "initializer = \"Glorot uniform\"\n",
    "net = dde.maps.FNN(layer_size, activation, initializer)\n",
    "\n",
    "model = dde.Model(data, net)\n",
    "model.compile(\"adam\", lr=0.001, metrics=[\"l2 relative error\"])\n",
    "losshistory, train_state = model.train(epochs=10000)\n",
    "\n",
    "dde.saveplot(losshistory, train_state, issave=True, isplot=True)\n"
   ]
  },
  {
   "cell_type": "code",
   "execution_count": null,
   "id": "28168f95",
   "metadata": {},
   "outputs": [],
   "source": []
  }
 ],
 "metadata": {
  "kernelspec": {
   "display_name": "Python 3",
   "language": "python",
   "name": "python3"
  },
  "language_info": {
   "codemirror_mode": {
    "name": "ipython",
    "version": 3
   },
   "file_extension": ".py",
   "mimetype": "text/x-python",
   "name": "python",
   "nbconvert_exporter": "python",
   "pygments_lexer": "ipython3",
   "version": "3.8.8"
  }
 },
 "nbformat": 4,
 "nbformat_minor": 5
}
